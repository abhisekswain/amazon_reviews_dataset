{
 "cells": [
  {
   "cell_type": "code",
   "execution_count": 113,
   "metadata": {
    "collapsed": false
   },
   "outputs": [],
   "source": [
    "import pandas as pd\n",
    "import pickle\n",
    "import numpy as np\n",
    "import matplotlib.pyplot as plt\n",
    "import seaborn as sns\n",
    "import itertools\n",
    "import numpy as np\n",
    "import math\n",
    "import datetime\n",
    "from textblob import TextBlob\n",
    "pd.set_option('display.float_format', lambda x: '%.2f' % x)\n",
    "# enables inline plots, without it plots don't show up in the notebook\n",
    "%matplotlib inline\n",
    "plt.style.use(style='ggplot')\n",
    "plt.rcParams['figure.figsize'] = (9, 6)\n",
    "pd.set_option('display.max_columns', 100)\n",
    "pd.options.display.max_rows = 999"
   ]
  },
  {
   "cell_type": "markdown",
   "metadata": {},
   "source": [
    "### Data extraction"
   ]
  },
  {
   "cell_type": "code",
   "execution_count": 2,
   "metadata": {
    "collapsed": false
   },
   "outputs": [],
   "source": [
    "# Read review file with 10M rows\n",
    "review_df = pd.read_json('item_dedup_reviews3.json', lines=True)\n",
    "#review_df.to_pickle('review_df_1M.pkl')"
   ]
  },
  {
   "cell_type": "code",
   "execution_count": 3,
   "metadata": {
    "collapsed": false
   },
   "outputs": [
    {
     "name": "stdout",
     "output_type": "stream",
     "text": [
      "(10000000, 9)\n"
     ]
    }
   ],
   "source": [
    "# Let's visualize the review file\n",
    "review_df.head()\n",
    "print (review_df.shape)"
   ]
  },
  {
   "cell_type": "code",
   "execution_count": 4,
   "metadata": {
    "collapsed": false
   },
   "outputs": [
    {
     "data": {
      "text/html": [
       "<div>\n",
       "<table border=\"1\" class=\"dataframe\">\n",
       "  <thead>\n",
       "    <tr style=\"text-align: right;\">\n",
       "      <th></th>\n",
       "      <th>asin</th>\n",
       "      <th>helpful</th>\n",
       "      <th>overall</th>\n",
       "      <th>reviewText</th>\n",
       "      <th>reviewTime</th>\n",
       "      <th>reviewerID</th>\n",
       "      <th>reviewerName</th>\n",
       "      <th>summary</th>\n",
       "      <th>unixReviewTime</th>\n",
       "      <th>timestamp</th>\n",
       "    </tr>\n",
       "  </thead>\n",
       "  <tbody>\n",
       "    <tr>\n",
       "      <th>0</th>\n",
       "      <td>B00691AF68</td>\n",
       "      <td>[0, 0]</td>\n",
       "      <td>3</td>\n",
       "      <td>I bought this case for the kickstand alone, si...</td>\n",
       "      <td>06 26, 2012</td>\n",
       "      <td>A2OTZJKZBLTRAQ</td>\n",
       "      <td>Randy</td>\n",
       "      <td>4 stars for sturdiness, NO STARS FOR THE KICKS...</td>\n",
       "      <td>1340668800</td>\n",
       "      <td>2012-06-26</td>\n",
       "    </tr>\n",
       "    <tr>\n",
       "      <th>1</th>\n",
       "      <td>B004XCLYSS</td>\n",
       "      <td>[0, 0]</td>\n",
       "      <td>5</td>\n",
       "      <td>Vintage style face gives an antique feel.  Ban...</td>\n",
       "      <td>02 9, 2013</td>\n",
       "      <td>A3QVJW34MZU61W</td>\n",
       "      <td>tjnks</td>\n",
       "      <td>Must have</td>\n",
       "      <td>1360368000</td>\n",
       "      <td>2013-02-09</td>\n",
       "    </tr>\n",
       "    <tr>\n",
       "      <th>2</th>\n",
       "      <td>0988703009</td>\n",
       "      <td>[0, 0]</td>\n",
       "      <td>2</td>\n",
       "      <td>What disguises itself as a dystopian novel is ...</td>\n",
       "      <td>07 10, 2014</td>\n",
       "      <td>A3IO3F5RJOPN6H</td>\n",
       "      <td>A.</td>\n",
       "      <td>Not what I expected</td>\n",
       "      <td>1404950400</td>\n",
       "      <td>2014-07-10</td>\n",
       "    </tr>\n",
       "    <tr>\n",
       "      <th>3</th>\n",
       "      <td>0323004318</td>\n",
       "      <td>[0, 0]</td>\n",
       "      <td>5</td>\n",
       "      <td>Great information that every nursing student s...</td>\n",
       "      <td>01 15, 2013</td>\n",
       "      <td>A1Z7LRIQXKXQDC</td>\n",
       "      <td>E. Whisenhunt</td>\n",
       "      <td>Great Information</td>\n",
       "      <td>1358208000</td>\n",
       "      <td>2013-01-15</td>\n",
       "    </tr>\n",
       "    <tr>\n",
       "      <th>4</th>\n",
       "      <td>B001CFRF7I</td>\n",
       "      <td>[5, 5]</td>\n",
       "      <td>4</td>\n",
       "      <td>This heater works good.  You have to have the ...</td>\n",
       "      <td>01 23, 2013</td>\n",
       "      <td>A2O962SNGYQEK</td>\n",
       "      <td>BRYAN FISHER</td>\n",
       "      <td>it has it's place</td>\n",
       "      <td>1358899200</td>\n",
       "      <td>2013-01-23</td>\n",
       "    </tr>\n",
       "  </tbody>\n",
       "</table>\n",
       "</div>"
      ],
      "text/plain": [
       "         asin helpful  overall  \\\n",
       "0  B00691AF68  [0, 0]        3   \n",
       "1  B004XCLYSS  [0, 0]        5   \n",
       "2  0988703009  [0, 0]        2   \n",
       "3  0323004318  [0, 0]        5   \n",
       "4  B001CFRF7I  [5, 5]        4   \n",
       "\n",
       "                                          reviewText   reviewTime  \\\n",
       "0  I bought this case for the kickstand alone, si...  06 26, 2012   \n",
       "1  Vintage style face gives an antique feel.  Ban...   02 9, 2013   \n",
       "2  What disguises itself as a dystopian novel is ...  07 10, 2014   \n",
       "3  Great information that every nursing student s...  01 15, 2013   \n",
       "4  This heater works good.  You have to have the ...  01 23, 2013   \n",
       "\n",
       "       reviewerID   reviewerName  \\\n",
       "0  A2OTZJKZBLTRAQ          Randy   \n",
       "1  A3QVJW34MZU61W          tjnks   \n",
       "2  A3IO3F5RJOPN6H             A.   \n",
       "3  A1Z7LRIQXKXQDC  E. Whisenhunt   \n",
       "4   A2O962SNGYQEK   BRYAN FISHER   \n",
       "\n",
       "                                             summary  unixReviewTime  \\\n",
       "0  4 stars for sturdiness, NO STARS FOR THE KICKS...      1340668800   \n",
       "1                                          Must have      1360368000   \n",
       "2                                Not what I expected      1404950400   \n",
       "3                                  Great Information      1358208000   \n",
       "4                                  it has it's place      1358899200   \n",
       "\n",
       "   timestamp  \n",
       "0 2012-06-26  \n",
       "1 2013-02-09  \n",
       "2 2014-07-10  \n",
       "3 2013-01-15  \n",
       "4 2013-01-23  "
      ]
     },
     "execution_count": 4,
     "metadata": {},
     "output_type": "execute_result"
    }
   ],
   "source": [
    "# Convert unixReviewtime to datetime\n",
    "review_df['timestamp'] = pd.to_datetime(review_df['unixReviewTime'],unit='s')\n",
    "review_df.head()"
   ]
  },
  {
   "cell_type": "code",
   "execution_count": 5,
   "metadata": {
    "collapsed": false
   },
   "outputs": [],
   "source": [
    "# Function to load json file and read into pandas\n",
    "def parse(path):\n",
    "  g = open(path, 'rb')\n",
    "  for l in g:\n",
    "    yield eval(l)\n",
    "\n",
    "def getDF(path):\n",
    "  i = 0\n",
    "  df = {}\n",
    "  for d in parse(path):\n",
    "    d = {key: d[key] if key in d else '' for key in ['asin', 'categories', 'price', 'related']}\n",
    "    d['categories'] = d['categories'][0] if d['categories'] != '' else ''\n",
    "    d['bought_together'] = d['related']['bought_together'] if d['related'] != '' and 'bought_together' in d['related'] else ''\n",
    "    del d['related']\n",
    "    df[i] = d\n",
    "    i += 1\n",
    "  return pd.DataFrame.from_dict(df, orient='index')"
   ]
  },
  {
   "cell_type": "code",
   "execution_count": 6,
   "metadata": {
    "collapsed": true
   },
   "outputs": [
    {
     "ename": "KeyboardInterrupt",
     "evalue": "",
     "output_type": "error",
     "traceback": [
      "\u001b[0;31m---------------------------------------------------------------------------\u001b[0m",
      "\u001b[0;31mKeyboardInterrupt\u001b[0m                         Traceback (most recent call last)",
      "\u001b[0;32m<ipython-input-6-be31967a1c60>\u001b[0m in \u001b[0;36m<module>\u001b[0;34m()\u001b[0m\n\u001b[1;32m      1\u001b[0m \u001b[0;31m# read metadata file and pickle to store\u001b[0m\u001b[0;34m\u001b[0m\u001b[0;34m\u001b[0m\u001b[0m\n\u001b[0;32m----> 2\u001b[0;31m \u001b[0mmeta_df\u001b[0m \u001b[0;34m=\u001b[0m \u001b[0mgetDF\u001b[0m\u001b[0;34m(\u001b[0m\u001b[0;34m'metadata.json'\u001b[0m\u001b[0;34m)\u001b[0m\u001b[0;34m\u001b[0m\u001b[0m\n\u001b[0m\u001b[1;32m      3\u001b[0m \u001b[0mmeta_df\u001b[0m\u001b[0;34m.\u001b[0m\u001b[0mhead\u001b[0m\u001b[0;34m(\u001b[0m\u001b[0;34m)\u001b[0m\u001b[0;34m\u001b[0m\u001b[0m\n\u001b[1;32m      4\u001b[0m \u001b[0mmeta_df\u001b[0m\u001b[0;34m.\u001b[0m\u001b[0mto_pickle\u001b[0m\u001b[0;34m(\u001b[0m\u001b[0;34m'meta_df1.pkl'\u001b[0m\u001b[0;34m)\u001b[0m\u001b[0;34m\u001b[0m\u001b[0m\n",
      "\u001b[0;32m<ipython-input-5-18c6c1b694c0>\u001b[0m in \u001b[0;36mgetDF\u001b[0;34m(path)\u001b[0m\n\u001b[1;32m      8\u001b[0m   \u001b[0mi\u001b[0m \u001b[0;34m=\u001b[0m \u001b[0;36m0\u001b[0m\u001b[0;34m\u001b[0m\u001b[0m\n\u001b[1;32m      9\u001b[0m   \u001b[0mdf\u001b[0m \u001b[0;34m=\u001b[0m \u001b[0;34m{\u001b[0m\u001b[0;34m}\u001b[0m\u001b[0;34m\u001b[0m\u001b[0m\n\u001b[0;32m---> 10\u001b[0;31m   \u001b[0;32mfor\u001b[0m \u001b[0md\u001b[0m \u001b[0;32min\u001b[0m \u001b[0mparse\u001b[0m\u001b[0;34m(\u001b[0m\u001b[0mpath\u001b[0m\u001b[0;34m)\u001b[0m\u001b[0;34m:\u001b[0m\u001b[0;34m\u001b[0m\u001b[0m\n\u001b[0m\u001b[1;32m     11\u001b[0m     \u001b[0md\u001b[0m \u001b[0;34m=\u001b[0m \u001b[0;34m{\u001b[0m\u001b[0mkey\u001b[0m\u001b[0;34m:\u001b[0m \u001b[0md\u001b[0m\u001b[0;34m[\u001b[0m\u001b[0mkey\u001b[0m\u001b[0;34m]\u001b[0m \u001b[0;32mif\u001b[0m \u001b[0mkey\u001b[0m \u001b[0;32min\u001b[0m \u001b[0md\u001b[0m \u001b[0;32melse\u001b[0m \u001b[0;34m''\u001b[0m \u001b[0;32mfor\u001b[0m \u001b[0mkey\u001b[0m \u001b[0;32min\u001b[0m \u001b[0;34m[\u001b[0m\u001b[0;34m'asin'\u001b[0m\u001b[0;34m,\u001b[0m \u001b[0;34m'categories'\u001b[0m\u001b[0;34m,\u001b[0m \u001b[0;34m'price'\u001b[0m\u001b[0;34m,\u001b[0m \u001b[0;34m'related'\u001b[0m\u001b[0;34m]\u001b[0m\u001b[0;34m}\u001b[0m\u001b[0;34m\u001b[0m\u001b[0m\n\u001b[1;32m     12\u001b[0m     \u001b[0md\u001b[0m\u001b[0;34m[\u001b[0m\u001b[0;34m'categories'\u001b[0m\u001b[0;34m]\u001b[0m \u001b[0;34m=\u001b[0m \u001b[0md\u001b[0m\u001b[0;34m[\u001b[0m\u001b[0;34m'categories'\u001b[0m\u001b[0;34m]\u001b[0m\u001b[0;34m[\u001b[0m\u001b[0;36m0\u001b[0m\u001b[0;34m]\u001b[0m \u001b[0;32mif\u001b[0m \u001b[0md\u001b[0m\u001b[0;34m[\u001b[0m\u001b[0;34m'categories'\u001b[0m\u001b[0;34m]\u001b[0m \u001b[0;34m!=\u001b[0m \u001b[0;34m''\u001b[0m \u001b[0;32melse\u001b[0m \u001b[0;34m''\u001b[0m\u001b[0;34m\u001b[0m\u001b[0m\n",
      "\u001b[0;32m<ipython-input-5-18c6c1b694c0>\u001b[0m in \u001b[0;36mparse\u001b[0;34m(path)\u001b[0m\n\u001b[1;32m      3\u001b[0m   \u001b[0mg\u001b[0m \u001b[0;34m=\u001b[0m \u001b[0mopen\u001b[0m\u001b[0;34m(\u001b[0m\u001b[0mpath\u001b[0m\u001b[0;34m,\u001b[0m \u001b[0;34m'rb'\u001b[0m\u001b[0;34m)\u001b[0m\u001b[0;34m\u001b[0m\u001b[0m\n\u001b[1;32m      4\u001b[0m   \u001b[0;32mfor\u001b[0m \u001b[0ml\u001b[0m \u001b[0;32min\u001b[0m \u001b[0mg\u001b[0m\u001b[0;34m:\u001b[0m\u001b[0;34m\u001b[0m\u001b[0m\n\u001b[0;32m----> 5\u001b[0;31m     \u001b[0;32myield\u001b[0m \u001b[0meval\u001b[0m\u001b[0;34m(\u001b[0m\u001b[0ml\u001b[0m\u001b[0;34m)\u001b[0m\u001b[0;34m\u001b[0m\u001b[0m\n\u001b[0m\u001b[1;32m      6\u001b[0m \u001b[0;34m\u001b[0m\u001b[0m\n\u001b[1;32m      7\u001b[0m \u001b[0;32mdef\u001b[0m \u001b[0mgetDF\u001b[0m\u001b[0;34m(\u001b[0m\u001b[0mpath\u001b[0m\u001b[0;34m)\u001b[0m\u001b[0;34m:\u001b[0m\u001b[0;34m\u001b[0m\u001b[0m\n",
      "\u001b[0;32m<string>\u001b[0m in \u001b[0;36m<module>\u001b[0;34m()\u001b[0m\n",
      "\u001b[0;31mKeyboardInterrupt\u001b[0m: "
     ]
    }
   ],
   "source": [
    "# read metadata file and pickle to store\n",
    "meta_df = getDF('metadata.json')\n",
    "meta_df.head()\n",
    "meta_df.to_pickle('meta_df1.pkl')"
   ]
  },
  {
   "cell_type": "code",
   "execution_count": 6,
   "metadata": {
    "collapsed": false
   },
   "outputs": [],
   "source": [
    "# read pickle file into pandas dataframe\n",
    "pickle_in = open(\"meta_df1.pkl\",\"rb\")\n",
    "meta_df2 = pickle.load(pickle_in)"
   ]
  },
  {
   "cell_type": "code",
   "execution_count": 7,
   "metadata": {
    "collapsed": false
   },
   "outputs": [
    {
     "data": {
      "text/html": [
       "<div>\n",
       "<table border=\"1\" class=\"dataframe\">\n",
       "  <thead>\n",
       "    <tr style=\"text-align: right;\">\n",
       "      <th></th>\n",
       "      <th>asin</th>\n",
       "      <th>categories</th>\n",
       "      <th>price</th>\n",
       "      <th>bought_together</th>\n",
       "    </tr>\n",
       "  </thead>\n",
       "  <tbody>\n",
       "    <tr>\n",
       "      <th>0</th>\n",
       "      <td>0001048791</td>\n",
       "      <td>[Books]</td>\n",
       "      <td></td>\n",
       "      <td></td>\n",
       "    </tr>\n",
       "    <tr>\n",
       "      <th>1</th>\n",
       "      <td>0000143561</td>\n",
       "      <td>[Movies &amp; TV, Movies]</td>\n",
       "      <td>12.99</td>\n",
       "      <td></td>\n",
       "    </tr>\n",
       "  </tbody>\n",
       "</table>\n",
       "</div>"
      ],
      "text/plain": [
       "         asin             categories price bought_together\n",
       "0  0001048791                [Books]                      \n",
       "1  0000143561  [Movies & TV, Movies] 12.99                "
      ]
     },
     "execution_count": 7,
     "metadata": {},
     "output_type": "execute_result"
    }
   ],
   "source": [
    "meta_df2.head(2)"
   ]
  },
  {
   "cell_type": "code",
   "execution_count": 8,
   "metadata": {
    "collapsed": false
   },
   "outputs": [
    {
     "data": {
      "text/plain": [
       "(10000000, 13)"
      ]
     },
     "execution_count": 8,
     "metadata": {},
     "output_type": "execute_result"
    }
   ],
   "source": [
    "# Merge metadata & reviews file\n",
    "product_df = pd.merge(review_df, meta_df2, on = ['asin'], how = 'left')\n",
    "product_df.shape"
   ]
  },
  {
   "cell_type": "code",
   "execution_count": 9,
   "metadata": {
    "collapsed": false
   },
   "outputs": [
    {
     "data": {
      "text/html": [
       "<div>\n",
       "<table border=\"1\" class=\"dataframe\">\n",
       "  <thead>\n",
       "    <tr style=\"text-align: right;\">\n",
       "      <th></th>\n",
       "      <th>asin</th>\n",
       "      <th>helpful</th>\n",
       "      <th>overall</th>\n",
       "      <th>reviewText</th>\n",
       "      <th>reviewTime</th>\n",
       "      <th>reviewerID</th>\n",
       "      <th>reviewerName</th>\n",
       "      <th>summary</th>\n",
       "      <th>unixReviewTime</th>\n",
       "      <th>timestamp</th>\n",
       "      <th>categories</th>\n",
       "      <th>price</th>\n",
       "      <th>bought_together</th>\n",
       "    </tr>\n",
       "  </thead>\n",
       "  <tbody>\n",
       "    <tr>\n",
       "      <th>0</th>\n",
       "      <td>B00691AF68</td>\n",
       "      <td>[0, 0]</td>\n",
       "      <td>3</td>\n",
       "      <td>I bought this case for the kickstand alone, si...</td>\n",
       "      <td>06 26, 2012</td>\n",
       "      <td>A2OTZJKZBLTRAQ</td>\n",
       "      <td>Randy</td>\n",
       "      <td>4 stars for sturdiness, NO STARS FOR THE KICKS...</td>\n",
       "      <td>1340668800</td>\n",
       "      <td>2012-06-26</td>\n",
       "      <td>[Cell Phones &amp; Accessories, Cases, Basic Cases]</td>\n",
       "      <td>35.99</td>\n",
       "      <td>[B006JHU3DC, B0064R6VWO]</td>\n",
       "    </tr>\n",
       "    <tr>\n",
       "      <th>1</th>\n",
       "      <td>B004XCLYSS</td>\n",
       "      <td>[0, 0]</td>\n",
       "      <td>5</td>\n",
       "      <td>Vintage style face gives an antique feel.  Ban...</td>\n",
       "      <td>02 9, 2013</td>\n",
       "      <td>A3QVJW34MZU61W</td>\n",
       "      <td>tjnks</td>\n",
       "      <td>Must have</td>\n",
       "      <td>1360368000</td>\n",
       "      <td>2013-02-09</td>\n",
       "      <td>[Clothing, Shoes &amp; Jewelry, Women]</td>\n",
       "      <td>80.00</td>\n",
       "      <td></td>\n",
       "    </tr>\n",
       "  </tbody>\n",
       "</table>\n",
       "</div>"
      ],
      "text/plain": [
       "         asin helpful  overall  \\\n",
       "0  B00691AF68  [0, 0]        3   \n",
       "1  B004XCLYSS  [0, 0]        5   \n",
       "\n",
       "                                          reviewText   reviewTime  \\\n",
       "0  I bought this case for the kickstand alone, si...  06 26, 2012   \n",
       "1  Vintage style face gives an antique feel.  Ban...   02 9, 2013   \n",
       "\n",
       "       reviewerID reviewerName  \\\n",
       "0  A2OTZJKZBLTRAQ        Randy   \n",
       "1  A3QVJW34MZU61W        tjnks   \n",
       "\n",
       "                                             summary  unixReviewTime  \\\n",
       "0  4 stars for sturdiness, NO STARS FOR THE KICKS...      1340668800   \n",
       "1                                          Must have      1360368000   \n",
       "\n",
       "   timestamp                                       categories price  \\\n",
       "0 2012-06-26  [Cell Phones & Accessories, Cases, Basic Cases] 35.99   \n",
       "1 2013-02-09               [Clothing, Shoes & Jewelry, Women] 80.00   \n",
       "\n",
       "            bought_together  \n",
       "0  [B006JHU3DC, B0064R6VWO]  \n",
       "1                            "
      ]
     },
     "execution_count": 9,
     "metadata": {},
     "output_type": "execute_result"
    }
   ],
   "source": [
    "product_df.head(2)"
   ]
  },
  {
   "cell_type": "code",
   "execution_count": 10,
   "metadata": {
    "collapsed": false
   },
   "outputs": [],
   "source": [
    "# Drop duplicate rows with reviews of same product by same user\n",
    "product_df.drop_duplicates(subset=['asin', 'reviewerID'], keep='first', inplace=True)"
   ]
  },
  {
   "cell_type": "code",
   "execution_count": 11,
   "metadata": {
    "collapsed": false
   },
   "outputs": [
    {
     "data": {
      "text/plain": [
       "(10000000, 13)"
      ]
     },
     "execution_count": 11,
     "metadata": {},
     "output_type": "execute_result"
    }
   ],
   "source": [
    "product_df.shape"
   ]
  },
  {
   "cell_type": "code",
   "execution_count": 105,
   "metadata": {
    "collapsed": false
   },
   "outputs": [
    {
     "name": "stderr",
     "output_type": "stream",
     "text": [
      "/home/ubuntu/anaconda3/lib/python3.6/site-packages/matplotlib/font_manager.py:1297: UserWarning: findfont: Font family ['sans-serif'] not found. Falling back to DejaVu Sans\n",
      "  (prop.get_family(), self.defaultFamily[fontext]))\n"
     ]
    },
    {
     "data": {
      "image/png": "[encoded data removed]",
      "text/plain": [
       "<matplotlib.figure.Figure at 0x7fcd436ad0b8>"
      ]
     },
     "metadata": {},
     "output_type": "display_data"
    }
   ],
   "source": [
    "# Let's plot the ratings distrbution\n",
    "overall_plot = product_df.loc[:, ['overall', 'asin']].drop_duplicates().overall.hist()\n",
    "overall_plot.set_title(\"Ratings distribution across reviews\")\n",
    "price_plot.set_xlabel(\"Overall\")\n",
    "price_plot.set_ylabel(\"Number of reviews\");"
   ]
  },
  {
   "cell_type": "markdown",
   "metadata": {
    "collapsed": true
   },
   "source": [
    "Looks like there are no duplicate reviews."
   ]
  },
  {
   "cell_type": "markdown",
   "metadata": {
    "collapsed": true
   },
   "source": [
    "------------------"
   ]
  },
  {
   "cell_type": "markdown",
   "metadata": {},
   "source": [
    "### 1. Connection between reviews of items bought together"
   ]
  },
  {
   "cell_type": "markdown",
   "metadata": {},
   "source": [
    "Thee are 2 questions to answer here:\n",
    "    - How does helpfulness vary between products bought together?\n",
    "    - How do rating vary between products bought together?"
   ]
  },
  {
   "cell_type": "code",
   "execution_count": 12,
   "metadata": {
    "collapsed": false
   },
   "outputs": [
    {
     "data": {
      "text/plain": [
       "1473125"
      ]
     },
     "execution_count": 12,
     "metadata": {},
     "output_type": "execute_result"
    }
   ],
   "source": [
    "# Get list of unique productids\n",
    "bt_prods = product_df.loc[product_df.bought_together != '', 'asin'].unique()\n",
    "len(bt_prods)"
   ]
  },
  {
   "cell_type": "code",
   "execution_count": 17,
   "metadata": {
    "collapsed": false
   },
   "outputs": [
    {
     "data": {
      "text/html": [
       "<div>\n",
       "<table border=\"1\" class=\"dataframe\">\n",
       "  <thead>\n",
       "    <tr style=\"text-align: right;\">\n",
       "      <th></th>\n",
       "      <th>asin</th>\n",
       "      <th>helpful</th>\n",
       "      <th>overall</th>\n",
       "      <th>reviewText</th>\n",
       "      <th>reviewTime</th>\n",
       "      <th>reviewerID</th>\n",
       "      <th>reviewerName</th>\n",
       "      <th>summary</th>\n",
       "      <th>unixReviewTime</th>\n",
       "      <th>timestamp</th>\n",
       "      <th>categories</th>\n",
       "      <th>price</th>\n",
       "      <th>bought_together</th>\n",
       "    </tr>\n",
       "  </thead>\n",
       "  <tbody>\n",
       "    <tr>\n",
       "      <th>3821694</th>\n",
       "      <td>B005W7JCRS</td>\n",
       "      <td>[0, 0]</td>\n",
       "      <td>5</td>\n",
       "      <td>i  finally  just  got  around  to  buying  thi...</td>\n",
       "      <td>03 10, 2012</td>\n",
       "      <td>A2A6UV0Y2SPYMM</td>\n",
       "      <td>Edward J. mccarthy Jr.</td>\n",
       "      <td>there  best  in  years</td>\n",
       "      <td>1331337600</td>\n",
       "      <td>2012-03-10</td>\n",
       "      <td>[CDs &amp; Vinyl, Classic Rock]</td>\n",
       "      <td>31.41</td>\n",
       "      <td>[B00HEVGK66]</td>\n",
       "    </tr>\n",
       "    <tr>\n",
       "      <th>8508954</th>\n",
       "      <td>B005W2BWDA</td>\n",
       "      <td>[0, 0]</td>\n",
       "      <td>5</td>\n",
       "      <td>I bought this set of DVDs because I have just ...</td>\n",
       "      <td>03 16, 2012</td>\n",
       "      <td>AH6OF6FSXUC92</td>\n",
       "      <td>Budd Young \"Lonewolf\"</td>\n",
       "      <td>In the Beginning</td>\n",
       "      <td>1331856000</td>\n",
       "      <td>2012-03-16</td>\n",
       "      <td>[Movies &amp; TV, TV]</td>\n",
       "      <td>59.99</td>\n",
       "      <td>[B007K7IB0C, B005QW98JQ]</td>\n",
       "    </tr>\n",
       "  </tbody>\n",
       "</table>\n",
       "</div>"
      ],
      "text/plain": [
       "               asin helpful  overall  \\\n",
       "3821694  B005W7JCRS  [0, 0]        5   \n",
       "8508954  B005W2BWDA  [0, 0]        5   \n",
       "\n",
       "                                                reviewText   reviewTime  \\\n",
       "3821694  i  finally  just  got  around  to  buying  thi...  03 10, 2012   \n",
       "8508954  I bought this set of DVDs because I have just ...  03 16, 2012   \n",
       "\n",
       "             reviewerID            reviewerName                 summary  \\\n",
       "3821694  A2A6UV0Y2SPYMM  Edward J. mccarthy Jr.  there  best  in  years   \n",
       "8508954   AH6OF6FSXUC92   Budd Young \"Lonewolf\"        In the Beginning   \n",
       "\n",
       "         unixReviewTime  timestamp                   categories price  \\\n",
       "3821694      1331337600 2012-03-10  [CDs & Vinyl, Classic Rock] 31.41   \n",
       "8508954      1331856000 2012-03-16            [Movies & TV, TV] 59.99   \n",
       "\n",
       "                  bought_together  \n",
       "3821694              [B00HEVGK66]  \n",
       "8508954  [B007K7IB0C, B005QW98JQ]  "
      ]
     },
     "execution_count": 17,
     "metadata": {},
     "output_type": "execute_result"
    }
   ],
   "source": [
    "product_df.sample(2)"
   ]
  },
  {
   "cell_type": "markdown",
   "metadata": {},
   "source": [
    "Let's take a sample of 1000 rows from meta_df3 as the entire dataset is too large to perfom manipulation on."
   ]
  },
  {
   "cell_type": "code",
   "execution_count": 18,
   "metadata": {
    "collapsed": false
   },
   "outputs": [
    {
     "name": "stdout",
     "output_type": "stream",
     "text": [
      "(9307, 2)\n"
     ]
    },
    {
     "data": {
      "text/html": [
       "<div>\n",
       "<table border=\"1\" class=\"dataframe\">\n",
       "  <thead>\n",
       "    <tr style=\"text-align: right;\">\n",
       "      <th></th>\n",
       "      <th>asin</th>\n",
       "      <th>bought_together</th>\n",
       "    </tr>\n",
       "  </thead>\n",
       "  <tbody>\n",
       "    <tr>\n",
       "      <th>237835</th>\n",
       "      <td>0387001255</td>\n",
       "      <td>[0791474984]</td>\n",
       "    </tr>\n",
       "    <tr>\n",
       "      <th>491688</th>\n",
       "      <td>0714863637</td>\n",
       "      <td>[1607743973, 0714859036]</td>\n",
       "    </tr>\n",
       "  </tbody>\n",
       "</table>\n",
       "</div>"
      ],
      "text/plain": [
       "              asin           bought_together\n",
       "237835  0387001255              [0791474984]\n",
       "491688  0714863637  [1607743973, 0714859036]"
      ]
     },
     "execution_count": 18,
     "metadata": {},
     "output_type": "execute_result"
    }
   ],
   "source": [
    "bt_prods_1000 = bt_prods[:10000]\n",
    "bt_data = meta_df2.loc[meta_df2.asin.isin(bt_prods_1000), ['asin', 'bought_together']]\n",
    "print(bt_data.shape)\n",
    "bt_data.sample(2)"
   ]
  },
  {
   "cell_type": "code",
   "execution_count": 19,
   "metadata": {
    "collapsed": true
   },
   "outputs": [],
   "source": [
    "asin_list_all = [y for x in bt_data.bought_together.values for y in x]\n",
    "asin_list_all = asin_list_all + bt_data.asin.tolist()\n",
    "asin_list_all = list(set(asin_list_all))"
   ]
  },
  {
   "cell_type": "code",
   "execution_count": 21,
   "metadata": {
    "collapsed": false
   },
   "outputs": [
    {
     "data": {
      "text/html": [
       "<div>\n",
       "<table border=\"1\" class=\"dataframe\">\n",
       "  <thead>\n",
       "    <tr style=\"text-align: right;\">\n",
       "      <th></th>\n",
       "      <th>percent_helpful</th>\n",
       "      <th>overall</th>\n",
       "    </tr>\n",
       "    <tr>\n",
       "      <th>asin</th>\n",
       "      <th></th>\n",
       "      <th></th>\n",
       "    </tr>\n",
       "  </thead>\n",
       "  <tbody>\n",
       "    <tr>\n",
       "      <th>B0040UPTA2</th>\n",
       "      <td>100.00</td>\n",
       "      <td>5.00</td>\n",
       "    </tr>\n",
       "    <tr>\n",
       "      <th>0606235434</th>\n",
       "      <td>52.80</td>\n",
       "      <td>4.64</td>\n",
       "    </tr>\n",
       "  </tbody>\n",
       "</table>\n",
       "</div>"
      ],
      "text/plain": [
       "            percent_helpful  overall\n",
       "asin                                \n",
       "B0040UPTA2           100.00     5.00\n",
       "0606235434            52.80     4.64"
      ]
     },
     "execution_count": 21,
     "metadata": {},
     "output_type": "execute_result"
    }
   ],
   "source": [
    "pdf_samp = product_df.loc[product_df.asin.isin(asin_list_all), :].copy()\n",
    "pdf_samp['helpful_votes'] = pdf_samp.helpful.apply(lambda x: x[0])\n",
    "pdf_samp['overall_votes'] = pdf_samp.helpful.apply(lambda x: x[1])\n",
    "pdf_samp['percent_helpful'] = pdf_samp['helpful_votes']*100.0/pdf_samp['overall_votes']\n",
    "pdf_samp = pdf_samp.groupby('asin')['percent_helpful', 'overall'].mean()\n",
    "pdf_samp.sample(2)"
   ]
  },
  {
   "cell_type": "code",
   "execution_count": 22,
   "metadata": {
    "collapsed": false
   },
   "outputs": [
    {
     "data": {
      "text/html": [
       "<div>\n",
       "<table border=\"1\" class=\"dataframe\">\n",
       "  <thead>\n",
       "    <tr style=\"text-align: right;\">\n",
       "      <th></th>\n",
       "      <th>asin</th>\n",
       "      <th>bought_together</th>\n",
       "    </tr>\n",
       "  </thead>\n",
       "  <tbody>\n",
       "    <tr>\n",
       "      <th>5519515</th>\n",
       "      <td>B004U901PQ</td>\n",
       "      <td>[B007XUCPLC, B007NXPWSC, B00A8E82IU, B0098X5D66]</td>\n",
       "    </tr>\n",
       "    <tr>\n",
       "      <th>7531467</th>\n",
       "      <td>B009VTH2JI</td>\n",
       "      <td>[B000XR4OC0, B00B81RVE8, B006LC4S2W]</td>\n",
       "    </tr>\n",
       "  </tbody>\n",
       "</table>\n",
       "</div>"
      ],
      "text/plain": [
       "               asin                                   bought_together\n",
       "5519515  B004U901PQ  [B007XUCPLC, B007NXPWSC, B00A8E82IU, B0098X5D66]\n",
       "7531467  B009VTH2JI              [B000XR4OC0, B00B81RVE8, B006LC4S2W]"
      ]
     },
     "execution_count": 22,
     "metadata": {},
     "output_type": "execute_result"
    }
   ],
   "source": [
    "bt_data.sample(2)"
   ]
  },
  {
   "cell_type": "code",
   "execution_count": 23,
   "metadata": {
    "collapsed": false
   },
   "outputs": [],
   "source": [
    "# Calculate average helpfulness & ratings of bought together products\n",
    "help_list=[]\n",
    "rating_list=[]\n",
    "for bt_list in bt_data.bought_together.tolist():\n",
    "    bt_list = [x for x in bt_list if x in pdf_samp.index]\n",
    "    tmp = pdf_samp.loc[bt_list, :]\n",
    "    avg_helpfulness = tmp.percent_helpful.mean()\n",
    "    avg_rating = tmp.overall.mean()\n",
    "    help_list.append(avg_helpfulness)\n",
    "    rating_list.append(avg_rating)"
   ]
  },
  {
   "cell_type": "code",
   "execution_count": 24,
   "metadata": {
    "collapsed": false
   },
   "outputs": [],
   "source": [
    "bt_data['bought_together_helpfulness'] = pd.Series(help_list, index=bt_data.index)\n",
    "bt_data['bought_together_rating'] = pd.Series(rating_list, index=bt_data.index)"
   ]
  },
  {
   "cell_type": "code",
   "execution_count": 25,
   "metadata": {
    "collapsed": false
   },
   "outputs": [],
   "source": [
    "#Calculate helpfulness and rating of original products\n",
    "bt_data['this_helpfulness'] = pd.Series([pdf_samp.loc[x, 'percent_helpful']\n",
    "                                         for x in bt_data.asin.tolist()], index=bt_data.index)\n",
    "bt_data['this_rating'] = pd.Series([pdf_samp.loc[x, 'overall']\n",
    "                                    for x in bt_data.asin.tolist()], index=bt_data.index)"
   ]
  },
  {
   "cell_type": "code",
   "execution_count": 26,
   "metadata": {
    "collapsed": false
   },
   "outputs": [
    {
     "data": {
      "text/html": [
       "<div>\n",
       "<table border=\"1\" class=\"dataframe\">\n",
       "  <thead>\n",
       "    <tr style=\"text-align: right;\">\n",
       "      <th></th>\n",
       "      <th>asin</th>\n",
       "      <th>bought_together</th>\n",
       "      <th>bought_together_helpfulness</th>\n",
       "      <th>bought_together_rating</th>\n",
       "      <th>this_helpfulness</th>\n",
       "      <th>this_rating</th>\n",
       "    </tr>\n",
       "  </thead>\n",
       "  <tbody>\n",
       "    <tr>\n",
       "      <th>4391542</th>\n",
       "      <td>B002VBE6N8</td>\n",
       "      <td>[B002VBJUY8, B002VBE6S8]</td>\n",
       "      <td>50.00</td>\n",
       "      <td>3.75</td>\n",
       "      <td>70.30</td>\n",
       "      <td>3.27</td>\n",
       "    </tr>\n",
       "    <tr>\n",
       "      <th>7281752</th>\n",
       "      <td>B0092HP3EA</td>\n",
       "      <td>[B00IWA1MNE]</td>\n",
       "      <td>28.46</td>\n",
       "      <td>4.12</td>\n",
       "      <td>51.09</td>\n",
       "      <td>2.57</td>\n",
       "    </tr>\n",
       "  </tbody>\n",
       "</table>\n",
       "</div>"
      ],
      "text/plain": [
       "               asin           bought_together  bought_together_helpfulness  \\\n",
       "4391542  B002VBE6N8  [B002VBJUY8, B002VBE6S8]                        50.00   \n",
       "7281752  B0092HP3EA              [B00IWA1MNE]                        28.46   \n",
       "\n",
       "         bought_together_rating  this_helpfulness  this_rating  \n",
       "4391542                    3.75             70.30         3.27  \n",
       "7281752                    4.12             51.09         2.57  "
      ]
     },
     "execution_count": 26,
     "metadata": {},
     "output_type": "execute_result"
    }
   ],
   "source": [
    "bt_data.sample(2)"
   ]
  },
  {
   "cell_type": "code",
   "execution_count": 114,
   "metadata": {
    "collapsed": false
   },
   "outputs": [
    {
     "data": {
      "text/plain": [
       "<matplotlib.text.Text at 0x7fcd43360160>"
      ]
     },
     "execution_count": 114,
     "metadata": {},
     "output_type": "execute_result"
    },
    {
     "name": "stderr",
     "output_type": "stream",
     "text": [
      "/home/ubuntu/anaconda3/lib/python3.6/site-packages/matplotlib/font_manager.py:1297: UserWarning: findfont: Font family ['sans-serif'] not found. Falling back to DejaVu Sans\n",
      "  (prop.get_family(), self.defaultFamily[fontext]))\n"
     ]
    },
    {
     "data": {
      "image/png": "[encoded data removed]",
      "text/plain": [
       "<matplotlib.figure.Figure at 0x7fcd435536a0>"
      ]
     },
     "metadata": {},
     "output_type": "display_data"
    }
   ],
   "source": [
    "# Plot helpfulness of original product and bought together product\n",
    "bt_data.dropna(inplace=True)\n",
    "plt.scatter(bt_data.this_helpfulness, bt_data.bought_together_helpfulness)\n",
    "plt.title(\"Correlation between product review helpfulness & bought together reviews helpfulness\")\n",
    "plt.xlabel(\"product_helpfulness\")\n",
    "plt.ylabel(\"bought_togerther_helpfulness\")"
   ]
  },
  {
   "cell_type": "code",
   "execution_count": 28,
   "metadata": {
    "collapsed": false
   },
   "outputs": [
    {
     "name": "stdout",
     "output_type": "stream",
     "text": [
      "0.169151229407\n"
     ]
    }
   ],
   "source": [
    "print (bt_data['this_helpfulness'].corr(bt_data['bought_together_helpfulness']))"
   ]
  },
  {
   "cell_type": "code",
   "execution_count": 29,
   "metadata": {
    "collapsed": false
   },
   "outputs": [
    {
     "data": {
      "text/plain": [
       "<matplotlib.text.Text at 0x7fcd43abc908>"
      ]
     },
     "execution_count": 29,
     "metadata": {},
     "output_type": "execute_result"
    },
    {
     "name": "stderr",
     "output_type": "stream",
     "text": [
      "/home/ubuntu/anaconda3/lib/python3.6/site-packages/matplotlib/font_manager.py:1297: UserWarning: findfont: Font family ['sans-serif'] not found. Falling back to DejaVu Sans\n",
      "  (prop.get_family(), self.defaultFamily[fontext]))\n"
     ]
    },
    {
     "data": {
      "image/png": "[encoded data removed]",
      "text/plain": [
       "<matplotlib.figure.Figure at 0x7fcd43b7e550>"
      ]
     },
     "metadata": {},
     "output_type": "display_data"
    }
   ],
   "source": [
    "# Plot ratings of original product and bought together product\n",
    "plt.scatter(bt_data.this_rating, bt_data.bought_together_rating)\n",
    "plt.title(\"Correlation between product review ratings & bought together reviews rating\")\n",
    "plt.xlabel(\"product_rating\")\n",
    "plt.ylabel(\"bought_togerther_rating\")"
   ]
  },
  {
   "cell_type": "code",
   "execution_count": 116,
   "metadata": {
    "collapsed": false
   },
   "outputs": [
    {
     "name": "stdout",
     "output_type": "stream",
     "text": [
      "0.280694303\n"
     ]
    }
   ],
   "source": [
    "print (bt_data['this_rating'].corr(bt_data['bought_together_rating']))"
   ]
  },
  {
   "cell_type": "markdown",
   "metadata": {},
   "source": [
    "----------"
   ]
  },
  {
   "cell_type": "markdown",
   "metadata": {},
   "source": [
    "### 2. What is the relation between the reviews and the helpfulness?"
   ]
  },
  {
   "cell_type": "code",
   "execution_count": 31,
   "metadata": {
    "collapsed": false
   },
   "outputs": [
    {
     "data": {
      "text/plain": [
       "2188091     [0, 0]\n",
       "6324902    [8, 11]\n",
       "8425758     [0, 0]\n",
       "9476139     [3, 9]\n",
       "4728890     [1, 1]\n",
       "Name: helpful, dtype: object"
      ]
     },
     "execution_count": 31,
     "metadata": {},
     "output_type": "execute_result"
    }
   ],
   "source": [
    "review_df.helpful.sample(5)"
   ]
  },
  {
   "cell_type": "markdown",
   "metadata": {},
   "source": [
    "The ‘helpful’ column contains values that look like this ‘[12, 49]’. The first value represents the number of helpful votes, the second represents overall votes. This data is useful to us, but not in this form, so let’s create some additional columns!"
   ]
  },
  {
   "cell_type": "code",
   "execution_count": 32,
   "metadata": {
    "collapsed": true
   },
   "outputs": [],
   "source": [
    "#Extract helpfulness information\n",
    "review_df['helpful_votes'] = review_df.helpful.apply(lambda x: x[0])\n",
    "review_df['overall_votes'] = review_df.helpful.apply(lambda x: x[1])\n",
    "review_df['percent_helpful'] = review_df['helpful_votes']*100.0/review_df['overall_votes']"
   ]
  },
  {
   "cell_type": "code",
   "execution_count": 33,
   "metadata": {
    "collapsed": false
   },
   "outputs": [
    {
     "data": {
      "text/html": [
       "<div>\n",
       "<table border=\"1\" class=\"dataframe\">\n",
       "  <thead>\n",
       "    <tr style=\"text-align: right;\">\n",
       "      <th></th>\n",
       "      <th>asin</th>\n",
       "      <th>helpful</th>\n",
       "      <th>overall</th>\n",
       "      <th>reviewText</th>\n",
       "      <th>reviewTime</th>\n",
       "      <th>reviewerID</th>\n",
       "      <th>reviewerName</th>\n",
       "      <th>summary</th>\n",
       "      <th>unixReviewTime</th>\n",
       "      <th>timestamp</th>\n",
       "      <th>helpful_votes</th>\n",
       "      <th>overall_votes</th>\n",
       "      <th>percent_helpful</th>\n",
       "    </tr>\n",
       "  </thead>\n",
       "  <tbody>\n",
       "    <tr>\n",
       "      <th>0</th>\n",
       "      <td>B00691AF68</td>\n",
       "      <td>[0, 0]</td>\n",
       "      <td>3</td>\n",
       "      <td>I bought this case for the kickstand alone, si...</td>\n",
       "      <td>06 26, 2012</td>\n",
       "      <td>A2OTZJKZBLTRAQ</td>\n",
       "      <td>Randy</td>\n",
       "      <td>4 stars for sturdiness, NO STARS FOR THE KICKS...</td>\n",
       "      <td>1340668800</td>\n",
       "      <td>2012-06-26</td>\n",
       "      <td>0</td>\n",
       "      <td>0</td>\n",
       "      <td>nan</td>\n",
       "    </tr>\n",
       "    <tr>\n",
       "      <th>1</th>\n",
       "      <td>B004XCLYSS</td>\n",
       "      <td>[0, 0]</td>\n",
       "      <td>5</td>\n",
       "      <td>Vintage style face gives an antique feel.  Ban...</td>\n",
       "      <td>02 9, 2013</td>\n",
       "      <td>A3QVJW34MZU61W</td>\n",
       "      <td>tjnks</td>\n",
       "      <td>Must have</td>\n",
       "      <td>1360368000</td>\n",
       "      <td>2013-02-09</td>\n",
       "      <td>0</td>\n",
       "      <td>0</td>\n",
       "      <td>nan</td>\n",
       "    </tr>\n",
       "  </tbody>\n",
       "</table>\n",
       "</div>"
      ],
      "text/plain": [
       "         asin helpful  overall  \\\n",
       "0  B00691AF68  [0, 0]        3   \n",
       "1  B004XCLYSS  [0, 0]        5   \n",
       "\n",
       "                                          reviewText   reviewTime  \\\n",
       "0  I bought this case for the kickstand alone, si...  06 26, 2012   \n",
       "1  Vintage style face gives an antique feel.  Ban...   02 9, 2013   \n",
       "\n",
       "       reviewerID reviewerName  \\\n",
       "0  A2OTZJKZBLTRAQ        Randy   \n",
       "1  A3QVJW34MZU61W        tjnks   \n",
       "\n",
       "                                             summary  unixReviewTime  \\\n",
       "0  4 stars for sturdiness, NO STARS FOR THE KICKS...      1340668800   \n",
       "1                                          Must have      1360368000   \n",
       "\n",
       "   timestamp  helpful_votes  overall_votes  percent_helpful  \n",
       "0 2012-06-26              0              0              nan  \n",
       "1 2013-02-09              0              0              nan  "
      ]
     },
     "execution_count": 33,
     "metadata": {},
     "output_type": "execute_result"
    }
   ],
   "source": [
    "review_df.head(2)"
   ]
  },
  {
   "cell_type": "markdown",
   "metadata": {},
   "source": [
    "** (i) How many reviews are helpful? **"
   ]
  },
  {
   "cell_type": "markdown",
   "metadata": {},
   "source": [
    "Among all reviews, almost a third (30%) are not voted on at all. Let's divide the reviews that were voted upon into three categories: Helpful reviews had more than 75% of voters find the review helpful, unhelpful reviews had less than 25% of voters find the review helpful, and an intermediate group of 25-75% helpfulness. This choice of division seemed to not have a larger impact on results; we will henceforth use this terminology to describe the helpfulness of reviews. Among reviews that are voted on, helpful reviews are the most commonas shown in the histogram below."
   ]
  },
  {
   "cell_type": "code",
   "execution_count": 34,
   "metadata": {
    "collapsed": false
   },
   "outputs": [
    {
     "name": "stderr",
     "output_type": "stream",
     "text": [
      "/home/ubuntu/anaconda3/lib/python3.6/site-packages/pandas/core/indexing.py:141: SettingWithCopyWarning: \n",
      "A value is trying to be set on a copy of a slice from a DataFrame\n",
      "\n",
      "See the caveats in the documentation: http://pandas.pydata.org/pandas-docs/stable/indexing.html#indexing-view-versus-copy\n",
      "  self._setitem_with_indexer(indexer, value)\n"
     ]
    }
   ],
   "source": [
    "review_df['helpfulness_category'] = ''\n",
    "review_df.helpfulness_category.loc[review_df.percent_helpful.isnull()] = 'no_indication'\n",
    "review_df.helpfulness_category.loc[review_df.percent_helpful == 0] = 'no_indication'\n",
    "review_df.helpfulness_category.loc[review_df.percent_helpful <= 25]  = 'less_than_25%'\n",
    "review_df.helpfulness_category.loc[(review_df.percent_helpful > 25) & (review_df.percent_helpful <= 75)]  = '25%_to_75%'\n",
    "review_df.helpfulness_category.loc[(review_df.percent_helpful > 75)]  = 'greater_than_75%'"
   ]
  },
  {
   "cell_type": "code",
   "execution_count": 35,
   "metadata": {
    "collapsed": false
   },
   "outputs": [
    {
     "data": {
      "text/plain": [
       "no_indication       5489701\n",
       "greater_than_75%    2745774\n",
       "25%_to_75%          1025387\n",
       "less_than_25%        739138\n",
       "Name: helpfulness_category, dtype: int64"
      ]
     },
     "execution_count": 35,
     "metadata": {},
     "output_type": "execute_result"
    }
   ],
   "source": [
    "review_df['helpfulness_category'].value_counts()"
   ]
  },
  {
   "cell_type": "code",
   "execution_count": 36,
   "metadata": {
    "collapsed": true
   },
   "outputs": [],
   "source": [
    "helpfulness_df = review_df.helpfulness_category.value_counts().reset_index()\n",
    "helpfulness_df.rename(columns={'index': 'helpfulness'}, inplace=True)\n",
    "helpfulness_df['percentage_of_reviews'] = helpfulness_df['helpfulness_category']*100.0/helpfulness_df['helpfulness_category'].sum()\n",
    "helpfulness_df['helpfulness'] = helpfulness_df['helpfulness'].astype(str)"
   ]
  },
  {
   "cell_type": "code",
   "execution_count": 37,
   "metadata": {
    "collapsed": false
   },
   "outputs": [],
   "source": [
    "helpfulness_df = helpfulness_df.iloc[[0, 3, 2, 1], :]"
   ]
  },
  {
   "cell_type": "code",
   "execution_count": 38,
   "metadata": {
    "collapsed": false
   },
   "outputs": [
    {
     "name": "stderr",
     "output_type": "stream",
     "text": [
      "/home/ubuntu/anaconda3/lib/python3.6/site-packages/matplotlib/font_manager.py:1297: UserWarning: findfont: Font family ['sans-serif'] not found. Falling back to DejaVu Sans\n",
      "  (prop.get_family(), self.defaultFamily[fontext]))\n"
     ]
    },
    {
     "data": {
      "image/png": "[encoded data removed]",
      "text/plain": [
       "<matplotlib.figure.Figure at 0x7fcd43ad9208>"
      ]
     },
     "metadata": {},
     "output_type": "display_data"
    }
   ],
   "source": [
    "helpfulness_plot = helpfulness_df.plot(x='helpfulness', y='percentage_of_reviews', kind='bar')\n",
    "helpfulness_plot.set_title(\"Distribution of helpfulness\")\n",
    "helpfulness_plot.set_xlabel(\"Helpfulness\")\n",
    "helpfulness_plot.set_ylabel(\"Percentage of reviews\")\n",
    "helpfulness_plot.legend_.remove()"
   ]
  },
  {
   "cell_type": "markdown",
   "metadata": {},
   "source": [
    "** (ii) How do ratings affect helpfulness? **"
   ]
  },
  {
   "cell_type": "code",
   "execution_count": 39,
   "metadata": {
    "collapsed": false
   },
   "outputs": [
    {
     "name": "stderr",
     "output_type": "stream",
     "text": [
      "/home/ubuntu/anaconda3/lib/python3.6/site-packages/ipykernel/__main__.py:2: SettingWithCopyWarning: \n",
      "A value is trying to be set on a copy of a slice from a DataFrame.\n",
      "Try using .loc[row_indexer,col_indexer] = value instead\n",
      "\n",
      "See the caveats in the documentation: http://pandas.pydata.org/pandas-docs/stable/indexing.html#indexing-view-versus-copy\n",
      "  from ipykernel import kernelapp as app\n",
      "/home/ubuntu/anaconda3/lib/python3.6/site-packages/pandas/core/indexing.py:141: SettingWithCopyWarning: \n",
      "A value is trying to be set on a copy of a slice from a DataFrame\n",
      "\n",
      "See the caveats in the documentation: http://pandas.pydata.org/pandas-docs/stable/indexing.html#indexing-view-versus-copy\n",
      "  self._setitem_with_indexer(indexer, value)\n",
      "/home/ubuntu/anaconda3/lib/python3.6/site-packages/ipykernel/__main__.py:3: SettingWithCopyWarning: \n",
      "A value is trying to be set on a copy of a slice from a DataFrame\n",
      "\n",
      "See the caveats in the documentation: http://pandas.pydata.org/pandas-docs/stable/indexing.html#indexing-view-versus-copy\n",
      "  app.launch_new_instance()\n",
      "/home/ubuntu/anaconda3/lib/python3.6/site-packages/ipykernel/__main__.py:4: SettingWithCopyWarning: \n",
      "A value is trying to be set on a copy of a slice from a DataFrame\n",
      "\n",
      "See the caveats in the documentation: http://pandas.pydata.org/pandas-docs/stable/indexing.html#indexing-view-versus-copy\n"
     ]
    }
   ],
   "source": [
    "review_df1 = review_df[(review_df['helpfulness_category'] == 'less_than_25%') | \\\n",
    "                       (review_df['helpfulness_category'] == 'greater_than_75%')]\n",
    "review_df1['helpfulness_yn'] = ''\n",
    "review_df1.helpfulness_yn.loc[review_df.helpfulness_category == 'less_than_25%'] = 'not_helpful'\n",
    "review_df1.helpfulness_yn.loc[review_df.helpfulness_category == 'greater_than_75%'] = 'helpful'"
   ]
  },
  {
   "cell_type": "code",
   "execution_count": 40,
   "metadata": {
    "collapsed": false
   },
   "outputs": [
    {
     "data": {
      "text/plain": [
       "helpful        2745774\n",
       "not_helpful     739138\n",
       "Name: helpfulness_yn, dtype: int64"
      ]
     },
     "execution_count": 40,
     "metadata": {},
     "output_type": "execute_result"
    }
   ],
   "source": [
    "review_df1['helpfulness_yn'].value_counts()"
   ]
  },
  {
   "cell_type": "code",
   "execution_count": 41,
   "metadata": {
    "collapsed": false
   },
   "outputs": [],
   "source": [
    "#Let's look at reviews that are helpful by overall ratings\n",
    "review_df1a = review_df1[review_df1['helpfulness_yn'] == 'not_helpful']\n",
    "review_df1b = review_df1[review_df1['helpfulness_yn'] == 'helpful']\n",
    "review_df2 = review_df1a.groupby(['overall'])['helpfulness_yn'].count().reset_index()\n",
    "review_df2['percent'] = review_df2['helpfulness_yn']*100.0/review_df2['helpfulness_yn'].sum()\n",
    "review_df3 = review_df1b.groupby(['overall'])['helpfulness_yn'].count().reset_index()\n",
    "review_df3['percent'] = review_df3['helpfulness_yn']*100.0/review_df3['helpfulness_yn'].sum()"
   ]
  },
  {
   "cell_type": "code",
   "execution_count": 42,
   "metadata": {
    "collapsed": false
   },
   "outputs": [],
   "source": [
    "review_df4 = pd.merge(review_df2, review_df3, on='overall')\n",
    "#review_df4['percent_helpful'] =  review_df4['helpfulness_yn_y']*100.0/(review_df4['helpfulness_yn_x'] + review_df4['helpfulness_yn_y'])"
   ]
  },
  {
   "cell_type": "code",
   "execution_count": 43,
   "metadata": {
    "collapsed": false
   },
   "outputs": [
    {
     "data": {
      "text/html": [
       "<div>\n",
       "<table border=\"1\" class=\"dataframe\">\n",
       "  <thead>\n",
       "    <tr style=\"text-align: right;\">\n",
       "      <th></th>\n",
       "      <th>overall</th>\n",
       "      <th>helpfulness_yn_x</th>\n",
       "      <th>percent_not_helpful</th>\n",
       "      <th>helpfulness_yn_y</th>\n",
       "      <th>percent_helpful</th>\n",
       "      <th>total_num_reviews</th>\n",
       "    </tr>\n",
       "  </thead>\n",
       "  <tbody>\n",
       "    <tr>\n",
       "      <th>0</th>\n",
       "      <td>1</td>\n",
       "      <td>146888</td>\n",
       "      <td>19.87</td>\n",
       "      <td>201734</td>\n",
       "      <td>7.35</td>\n",
       "      <td>348622</td>\n",
       "    </tr>\n",
       "    <tr>\n",
       "      <th>1</th>\n",
       "      <td>2</td>\n",
       "      <td>76005</td>\n",
       "      <td>10.28</td>\n",
       "      <td>121979</td>\n",
       "      <td>4.44</td>\n",
       "      <td>197984</td>\n",
       "    </tr>\n",
       "    <tr>\n",
       "      <th>2</th>\n",
       "      <td>3</td>\n",
       "      <td>101695</td>\n",
       "      <td>13.76</td>\n",
       "      <td>201164</td>\n",
       "      <td>7.33</td>\n",
       "      <td>302859</td>\n",
       "    </tr>\n",
       "    <tr>\n",
       "      <th>3</th>\n",
       "      <td>4</td>\n",
       "      <td>116593</td>\n",
       "      <td>15.77</td>\n",
       "      <td>515036</td>\n",
       "      <td>18.76</td>\n",
       "      <td>631629</td>\n",
       "    </tr>\n",
       "    <tr>\n",
       "      <th>4</th>\n",
       "      <td>5</td>\n",
       "      <td>297957</td>\n",
       "      <td>40.31</td>\n",
       "      <td>1705861</td>\n",
       "      <td>62.13</td>\n",
       "      <td>2003818</td>\n",
       "    </tr>\n",
       "  </tbody>\n",
       "</table>\n",
       "</div>"
      ],
      "text/plain": [
       "   overall  helpfulness_yn_x  percent_not_helpful  helpfulness_yn_y  \\\n",
       "0        1            146888                19.87            201734   \n",
       "1        2             76005                10.28            121979   \n",
       "2        3            101695                13.76            201164   \n",
       "3        4            116593                15.77            515036   \n",
       "4        5            297957                40.31           1705861   \n",
       "\n",
       "   percent_helpful  total_num_reviews  \n",
       "0             7.35             348622  \n",
       "1             4.44             197984  \n",
       "2             7.33             302859  \n",
       "3            18.76             631629  \n",
       "4            62.13            2003818  "
      ]
     },
     "execution_count": 43,
     "metadata": {},
     "output_type": "execute_result"
    }
   ],
   "source": [
    "review_df4['total_num_reviews'] = review_df4.helpfulness_yn_x + review_df4.helpfulness_yn_y\n",
    "review_df4.rename(columns={'percent_x':'percent_not_helpful', 'percent_y':'percent_helpful'}, inplace=True)\n",
    "review_df4"
   ]
  },
  {
   "cell_type": "code",
   "execution_count": 115,
   "metadata": {
    "collapsed": false
   },
   "outputs": [
    {
     "data": {
      "text/plain": [
       "<matplotlib.text.Text at 0x7fcd432e3588>"
      ]
     },
     "execution_count": 115,
     "metadata": {},
     "output_type": "execute_result"
    },
    {
     "name": "stderr",
     "output_type": "stream",
     "text": [
      "/home/ubuntu/anaconda3/lib/python3.6/site-packages/matplotlib/font_manager.py:1297: UserWarning: findfont: Font family ['sans-serif'] not found. Falling back to DejaVu Sans\n",
      "  (prop.get_family(), self.defaultFamily[fontext]))\n"
     ]
    },
    {
     "data": {
      "image/png": "[encoded data removed]",
      "text/plain": [
       "<matplotlib.figure.Figure at 0x7fcd432dcd30>"
      ]
     },
     "metadata": {},
     "output_type": "display_data"
    }
   ],
   "source": [
    "review_df4.plot(x='overall', y=['percent_not_helpful', 'percent_helpful'], kind='bar')\n",
    "plt.title(\"Distribution of helpful/non helpful review by overall rating\")\n",
    "plt.ylabel('percentage of reviews')"
   ]
  },
  {
   "cell_type": "code",
   "execution_count": 45,
   "metadata": {
    "collapsed": false
   },
   "outputs": [
    {
     "name": "stderr",
     "output_type": "stream",
     "text": [
      "/home/ubuntu/anaconda3/lib/python3.6/site-packages/matplotlib/font_manager.py:1297: UserWarning: findfont: Font family ['sans-serif'] not found. Falling back to DejaVu Sans\n",
      "  (prop.get_family(), self.defaultFamily[fontext]))\n"
     ]
    },
    {
     "data": {
      "image/png": "[encoded data removed]",
      "text/plain": [
       "<matplotlib.figure.Figure at 0x7fcd439f9a20>"
      ]
     },
     "metadata": {},
     "output_type": "display_data"
    }
   ],
   "source": [
    "review_df4.plot(x='overall', y=['percent_helpful'], kind='bar');"
   ]
  },
  {
   "cell_type": "markdown",
   "metadata": {},
   "source": [
    "So we can see from the 2 above plots\n",
    "- As ratings become higher the number of helpful reviees increase. People are more likely to write helpful reviews for highly rated products.\n",
    "- Higher rated reviews have higher proportion of helpful reviews"
   ]
  },
  {
   "cell_type": "markdown",
   "metadata": {},
   "source": [
    "** How does word count relate to helpfulness? **"
   ]
  },
  {
   "cell_type": "code",
   "execution_count": 46,
   "metadata": {
    "collapsed": true
   },
   "outputs": [],
   "source": [
    "# Function to count number of words in each reviewText\n",
    "def word_count(text):\n",
    "    text = str(text)\n",
    "    words = text.split(\" \")\n",
    "    word_count = len(words)\n",
    "    return (word_count)"
   ]
  },
  {
   "cell_type": "code",
   "execution_count": 47,
   "metadata": {
    "collapsed": false,
    "scrolled": true
   },
   "outputs": [
    {
     "name": "stderr",
     "output_type": "stream",
     "text": [
      "/home/ubuntu/anaconda3/lib/python3.6/site-packages/ipykernel/__main__.py:1: SettingWithCopyWarning: \n",
      "A value is trying to be set on a copy of a slice from a DataFrame.\n",
      "Try using .loc[row_indexer,col_indexer] = value instead\n",
      "\n",
      "See the caveats in the documentation: http://pandas.pydata.org/pandas-docs/stable/indexing.html#indexing-view-versus-copy\n",
      "  if __name__ == '__main__':\n"
     ]
    },
    {
     "data": {
      "text/html": [
       "<div>\n",
       "<table border=\"1\" class=\"dataframe\">\n",
       "  <thead>\n",
       "    <tr style=\"text-align: right;\">\n",
       "      <th></th>\n",
       "      <th>asin</th>\n",
       "      <th>helpful</th>\n",
       "      <th>overall</th>\n",
       "      <th>reviewText</th>\n",
       "      <th>reviewTime</th>\n",
       "      <th>reviewerID</th>\n",
       "      <th>reviewerName</th>\n",
       "      <th>summary</th>\n",
       "      <th>unixReviewTime</th>\n",
       "      <th>timestamp</th>\n",
       "      <th>helpful_votes</th>\n",
       "      <th>overall_votes</th>\n",
       "      <th>percent_helpful</th>\n",
       "      <th>helpfulness_category</th>\n",
       "      <th>helpfulness_yn</th>\n",
       "      <th>word_count</th>\n",
       "    </tr>\n",
       "  </thead>\n",
       "  <tbody>\n",
       "    <tr>\n",
       "      <th>4</th>\n",
       "      <td>B001CFRF7I</td>\n",
       "      <td>[5, 5]</td>\n",
       "      <td>4</td>\n",
       "      <td>This heater works good.  You have to have the ...</td>\n",
       "      <td>01 23, 2013</td>\n",
       "      <td>A2O962SNGYQEK</td>\n",
       "      <td>BRYAN FISHER</td>\n",
       "      <td>it has it's place</td>\n",
       "      <td>1358899200</td>\n",
       "      <td>2013-01-23</td>\n",
       "      <td>5</td>\n",
       "      <td>5</td>\n",
       "      <td>100.00</td>\n",
       "      <td>greater_than_75%</td>\n",
       "      <td>helpful</td>\n",
       "      <td>46</td>\n",
       "    </tr>\n",
       "    <tr>\n",
       "      <th>14</th>\n",
       "      <td>B0082QJHLC</td>\n",
       "      <td>[2, 2]</td>\n",
       "      <td>4</td>\n",
       "      <td>The comforter made my 11 year old son very hap...</td>\n",
       "      <td>11 13, 2013</td>\n",
       "      <td>A28H7NL3KFIXIY</td>\n",
       "      <td>Melanie</td>\n",
       "      <td>Good Quality</td>\n",
       "      <td>1384300800</td>\n",
       "      <td>2013-11-13</td>\n",
       "      <td>2</td>\n",
       "      <td>2</td>\n",
       "      <td>100.00</td>\n",
       "      <td>greater_than_75%</td>\n",
       "      <td>helpful</td>\n",
       "      <td>37</td>\n",
       "    </tr>\n",
       "    <tr>\n",
       "      <th>15</th>\n",
       "      <td>B00CBI31SM</td>\n",
       "      <td>[1, 5]</td>\n",
       "      <td>1</td>\n",
       "      <td>This is a really powerful substance for hair g...</td>\n",
       "      <td>02 21, 2014</td>\n",
       "      <td>A1DJ38AMZ1BLRH</td>\n",
       "      <td>Abdullah</td>\n",
       "      <td>The side effects are nasty</td>\n",
       "      <td>1392940800</td>\n",
       "      <td>2014-02-21</td>\n",
       "      <td>1</td>\n",
       "      <td>5</td>\n",
       "      <td>20.00</td>\n",
       "      <td>less_than_25%</td>\n",
       "      <td>not_helpful</td>\n",
       "      <td>71</td>\n",
       "    </tr>\n",
       "    <tr>\n",
       "      <th>16</th>\n",
       "      <td>B008S1HUN8</td>\n",
       "      <td>[4, 4]</td>\n",
       "      <td>5</td>\n",
       "      <td>I have pretty small wrist so most bracelets ar...</td>\n",
       "      <td>12 30, 2012</td>\n",
       "      <td>A2SUH23TKGA782</td>\n",
       "      <td>~*Sheild Maiden*~</td>\n",
       "      <td>In one word.....awesome!</td>\n",
       "      <td>1356825600</td>\n",
       "      <td>2012-12-30</td>\n",
       "      <td>4</td>\n",
       "      <td>4</td>\n",
       "      <td>100.00</td>\n",
       "      <td>greater_than_75%</td>\n",
       "      <td>helpful</td>\n",
       "      <td>105</td>\n",
       "    </tr>\n",
       "    <tr>\n",
       "      <th>19</th>\n",
       "      <td>0446609234</td>\n",
       "      <td>[5, 5]</td>\n",
       "      <td>5</td>\n",
       "      <td>A delightful picaresque adventure in the style...</td>\n",
       "      <td>03 1, 2001</td>\n",
       "      <td>A279VCEMW3QNAN</td>\n",
       "      <td>Mike Berro</td>\n",
       "      <td>Fantasy in the Jack Vance style</td>\n",
       "      <td>983404800</td>\n",
       "      <td>2001-03-01</td>\n",
       "      <td>5</td>\n",
       "      <td>5</td>\n",
       "      <td>100.00</td>\n",
       "      <td>greater_than_75%</td>\n",
       "      <td>helpful</td>\n",
       "      <td>95</td>\n",
       "    </tr>\n",
       "  </tbody>\n",
       "</table>\n",
       "</div>"
      ],
      "text/plain": [
       "          asin helpful  overall  \\\n",
       "4   B001CFRF7I  [5, 5]        4   \n",
       "14  B0082QJHLC  [2, 2]        4   \n",
       "15  B00CBI31SM  [1, 5]        1   \n",
       "16  B008S1HUN8  [4, 4]        5   \n",
       "19  0446609234  [5, 5]        5   \n",
       "\n",
       "                                           reviewText   reviewTime  \\\n",
       "4   This heater works good.  You have to have the ...  01 23, 2013   \n",
       "14  The comforter made my 11 year old son very hap...  11 13, 2013   \n",
       "15  This is a really powerful substance for hair g...  02 21, 2014   \n",
       "16  I have pretty small wrist so most bracelets ar...  12 30, 2012   \n",
       "19  A delightful picaresque adventure in the style...   03 1, 2001   \n",
       "\n",
       "        reviewerID       reviewerName                          summary  \\\n",
       "4    A2O962SNGYQEK       BRYAN FISHER                it has it's place   \n",
       "14  A28H7NL3KFIXIY            Melanie                     Good Quality   \n",
       "15  A1DJ38AMZ1BLRH           Abdullah       The side effects are nasty   \n",
       "16  A2SUH23TKGA782  ~*Sheild Maiden*~         In one word.....awesome!   \n",
       "19  A279VCEMW3QNAN         Mike Berro  Fantasy in the Jack Vance style   \n",
       "\n",
       "    unixReviewTime  timestamp  helpful_votes  overall_votes  percent_helpful  \\\n",
       "4       1358899200 2013-01-23              5              5           100.00   \n",
       "14      1384300800 2013-11-13              2              2           100.00   \n",
       "15      1392940800 2014-02-21              1              5            20.00   \n",
       "16      1356825600 2012-12-30              4              4           100.00   \n",
       "19       983404800 2001-03-01              5              5           100.00   \n",
       "\n",
       "   helpfulness_category helpfulness_yn  word_count  \n",
       "4      greater_than_75%        helpful          46  \n",
       "14     greater_than_75%        helpful          37  \n",
       "15        less_than_25%    not_helpful          71  \n",
       "16     greater_than_75%        helpful         105  \n",
       "19     greater_than_75%        helpful          95  "
      ]
     },
     "execution_count": 47,
     "metadata": {},
     "output_type": "execute_result"
    }
   ],
   "source": [
    "review_df1['word_count'] = pd.Series([word_count(x) for x in review_df1.reviewText], index=review_df1.index)\n",
    "review_df1.head()"
   ]
  },
  {
   "cell_type": "code",
   "execution_count": 48,
   "metadata": {
    "collapsed": false
   },
   "outputs": [
    {
     "name": "stderr",
     "output_type": "stream",
     "text": [
      "/home/ubuntu/anaconda3/lib/python3.6/site-packages/matplotlib/font_manager.py:1297: UserWarning: findfont: Font family ['sans-serif'] not found. Falling back to DejaVu Sans\n",
      "  (prop.get_family(), self.defaultFamily[fontext]))\n"
     ]
    },
    {
     "data": {
      "image/png": "[encoded data removed]",
      "text/plain": [
       "<matplotlib.figure.Figure at 0x7fcd43ad9ba8>"
      ]
     },
     "metadata": {},
     "output_type": "display_data"
    }
   ],
   "source": [
    "sns.boxplot(y='word_count', x='helpfulness_category', data=review_df1, width=0.5, palette=\"colorblind\")\n",
    "plt.title(\"Word count for helpful vs unhelpful reviews\")\n",
    "plt.ylim(0, 300);"
   ]
  },
  {
   "cell_type": "code",
   "execution_count": 49,
   "metadata": {
    "collapsed": false
   },
   "outputs": [
    {
     "name": "stderr",
     "output_type": "stream",
     "text": [
      "/home/ubuntu/anaconda3/lib/python3.6/site-packages/matplotlib/font_manager.py:1297: UserWarning: findfont: Font family ['sans-serif'] not found. Falling back to DejaVu Sans\n",
      "  (prop.get_family(), self.defaultFamily[fontext]))\n"
     ]
    },
    {
     "data": {
      "image/png": "[encoded data removed]",
      "text/plain": [
       "<matplotlib.figure.Figure at 0x7fcd4393fdd8>"
      ]
     },
     "metadata": {},
     "output_type": "display_data"
    }
   ],
   "source": [
    "sns.boxplot(y='word_count', x='helpfulness_yn', data=review_df1, width=0.5, palette=\"colorblind\")\n",
    "plt.title(\"Word count for helpful vs unhelpful reviews\")\n",
    "plt.ylim(0, 300);"
   ]
  },
  {
   "cell_type": "markdown",
   "metadata": {},
   "source": [
    "Its clear from the above plot that helpful reviews are longer, i.e. have higher word count."
   ]
  },
  {
   "cell_type": "markdown",
   "metadata": {},
   "source": [
    "### 3. Is there a relation between price and reviews"
   ]
  },
  {
   "cell_type": "markdown",
   "metadata": {
    "collapsed": true
   },
   "source": [
    "(i) In order to study price let's use the merged datafarme, i.e. product_df. First we'll look at how price is distributed across different products."
   ]
  },
  {
   "cell_type": "code",
   "execution_count": 50,
   "metadata": {
    "collapsed": false
   },
   "outputs": [
    {
     "data": {
      "text/html": [
       "<div>\n",
       "<table border=\"1\" class=\"dataframe\">\n",
       "  <thead>\n",
       "    <tr style=\"text-align: right;\">\n",
       "      <th></th>\n",
       "      <th>asin</th>\n",
       "      <th>helpful</th>\n",
       "      <th>overall</th>\n",
       "      <th>reviewText</th>\n",
       "      <th>reviewTime</th>\n",
       "      <th>reviewerID</th>\n",
       "      <th>reviewerName</th>\n",
       "      <th>summary</th>\n",
       "      <th>unixReviewTime</th>\n",
       "      <th>timestamp</th>\n",
       "      <th>categories</th>\n",
       "      <th>price</th>\n",
       "      <th>bought_together</th>\n",
       "    </tr>\n",
       "  </thead>\n",
       "  <tbody>\n",
       "    <tr>\n",
       "      <th>0</th>\n",
       "      <td>B00691AF68</td>\n",
       "      <td>[0, 0]</td>\n",
       "      <td>3</td>\n",
       "      <td>I bought this case for the kickstand alone, si...</td>\n",
       "      <td>06 26, 2012</td>\n",
       "      <td>A2OTZJKZBLTRAQ</td>\n",
       "      <td>Randy</td>\n",
       "      <td>4 stars for sturdiness, NO STARS FOR THE KICKS...</td>\n",
       "      <td>1340668800</td>\n",
       "      <td>2012-06-26</td>\n",
       "      <td>[Cell Phones &amp; Accessories, Cases, Basic Cases]</td>\n",
       "      <td>35.99</td>\n",
       "      <td>[B006JHU3DC, B0064R6VWO]</td>\n",
       "    </tr>\n",
       "    <tr>\n",
       "      <th>1</th>\n",
       "      <td>B004XCLYSS</td>\n",
       "      <td>[0, 0]</td>\n",
       "      <td>5</td>\n",
       "      <td>Vintage style face gives an antique feel.  Ban...</td>\n",
       "      <td>02 9, 2013</td>\n",
       "      <td>A3QVJW34MZU61W</td>\n",
       "      <td>tjnks</td>\n",
       "      <td>Must have</td>\n",
       "      <td>1360368000</td>\n",
       "      <td>2013-02-09</td>\n",
       "      <td>[Clothing, Shoes &amp; Jewelry, Women]</td>\n",
       "      <td>80.00</td>\n",
       "      <td></td>\n",
       "    </tr>\n",
       "  </tbody>\n",
       "</table>\n",
       "</div>"
      ],
      "text/plain": [
       "         asin helpful  overall  \\\n",
       "0  B00691AF68  [0, 0]        3   \n",
       "1  B004XCLYSS  [0, 0]        5   \n",
       "\n",
       "                                          reviewText   reviewTime  \\\n",
       "0  I bought this case for the kickstand alone, si...  06 26, 2012   \n",
       "1  Vintage style face gives an antique feel.  Ban...   02 9, 2013   \n",
       "\n",
       "       reviewerID reviewerName  \\\n",
       "0  A2OTZJKZBLTRAQ        Randy   \n",
       "1  A3QVJW34MZU61W        tjnks   \n",
       "\n",
       "                                             summary  unixReviewTime  \\\n",
       "0  4 stars for sturdiness, NO STARS FOR THE KICKS...      1340668800   \n",
       "1                                          Must have      1360368000   \n",
       "\n",
       "   timestamp                                       categories price  \\\n",
       "0 2012-06-26  [Cell Phones & Accessories, Cases, Basic Cases] 35.99   \n",
       "1 2013-02-09               [Clothing, Shoes & Jewelry, Women] 80.00   \n",
       "\n",
       "            bought_together  \n",
       "0  [B006JHU3DC, B0064R6VWO]  \n",
       "1                            "
      ]
     },
     "execution_count": 50,
     "metadata": {},
     "output_type": "execute_result"
    }
   ],
   "source": [
    "product_df.head(2)"
   ]
  },
  {
   "cell_type": "code",
   "execution_count": 51,
   "metadata": {
    "collapsed": false
   },
   "outputs": [
    {
     "data": {
      "text/plain": [
       "3127312"
      ]
     },
     "execution_count": 51,
     "metadata": {},
     "output_type": "execute_result"
    }
   ],
   "source": [
    "# Count number of products in dataset\n",
    "product_df['asin'].nunique()"
   ]
  },
  {
   "cell_type": "code",
   "execution_count": 52,
   "metadata": {
    "collapsed": false
   },
   "outputs": [
    {
     "data": {
      "text/plain": [
       "count   7972768.00\n",
       "mean         33.16\n",
       "std          67.63\n",
       "min           0.00\n",
       "25%           7.10\n",
       "50%          13.21\n",
       "75%          29.95\n",
       "max         999.99\n",
       "Name: price, dtype: float64"
      ]
     },
     "execution_count": 52,
     "metadata": {},
     "output_type": "execute_result"
    }
   ],
   "source": [
    "# Convert price to float\n",
    "product_df['price'] = pd.to_numeric(product_df['price'], errors='coerce')\n",
    "product_df['price'].describe()"
   ]
  },
  {
   "cell_type": "markdown",
   "metadata": {},
   "source": [
    "Let's check for nulls"
   ]
  },
  {
   "cell_type": "code",
   "execution_count": 53,
   "metadata": {
    "collapsed": false
   },
   "outputs": [
    {
     "data": {
      "text/plain": [
       "2027232"
      ]
     },
     "execution_count": 53,
     "metadata": {},
     "output_type": "execute_result"
    }
   ],
   "source": [
    "product_df['price'].isnull().sum()"
   ]
  },
  {
   "cell_type": "markdown",
   "metadata": {},
   "source": [
    "There are a large number of null values. Let's drop them."
   ]
  },
  {
   "cell_type": "code",
   "execution_count": 54,
   "metadata": {
    "collapsed": false
   },
   "outputs": [],
   "source": [
    "product_df = product_df.loc[~product_df.price.isnull(), :]"
   ]
  },
  {
   "cell_type": "code",
   "execution_count": 55,
   "metadata": {
    "collapsed": false
   },
   "outputs": [
    {
     "data": {
      "text/plain": [
       "(7972768, 13)"
      ]
     },
     "execution_count": 55,
     "metadata": {},
     "output_type": "execute_result"
    }
   ],
   "source": [
    "product_df.shape"
   ]
  },
  {
   "cell_type": "markdown",
   "metadata": {
    "collapsed": false
   },
   "source": [
    "Let's plot the distribution of prices for all the categories. The 10M million reviews in the data set address."
   ]
  },
  {
   "cell_type": "code",
   "execution_count": 56,
   "metadata": {
    "collapsed": false
   },
   "outputs": [
    {
     "name": "stderr",
     "output_type": "stream",
     "text": [
      "/home/ubuntu/anaconda3/lib/python3.6/site-packages/matplotlib/font_manager.py:1297: UserWarning: findfont: Font family ['sans-serif'] not found. Falling back to DejaVu Sans\n",
      "  (prop.get_family(), self.defaultFamily[fontext]))\n"
     ]
    },
    {
     "data": {
      "image/png": "[encoded data removed]",
      "text/plain": [
       "<matplotlib.figure.Figure at 0x7fcd4380a128>"
      ]
     },
     "metadata": {},
     "output_type": "display_data"
    }
   ],
   "source": [
    "price_plot = product_df.loc[:, ['price', 'asin']].drop_duplicates().price.hist()\n",
    "price_plot.set_title(\"Price distribution across 2182297 products\")\n",
    "price_plot.set_xlabel(\"Price\")\n",
    "price_plot.set_ylabel(\"Number of products\");"
   ]
  },
  {
   "cell_type": "markdown",
   "metadata": {},
   "source": [
    "Let's do the same thing as above but by dividing the price into categories"
   ]
  },
  {
   "cell_type": "code",
   "execution_count": 57,
   "metadata": {
    "collapsed": false
   },
   "outputs": [
    {
     "name": "stderr",
     "output_type": "stream",
     "text": [
      "/home/ubuntu/anaconda3/lib/python3.6/site-packages/pandas/core/indexing.py:141: SettingWithCopyWarning: \n",
      "A value is trying to be set on a copy of a slice from a DataFrame\n",
      "\n",
      "See the caveats in the documentation: http://pandas.pydata.org/pandas-docs/stable/indexing.html#indexing-view-versus-copy\n",
      "  self._setitem_with_indexer(indexer, value)\n"
     ]
    }
   ],
   "source": [
    "product_df['price_category'] = ''\n",
    "product_df.price_category.loc[product_df.price.isnull()] = 'low_price'\n",
    "product_df.price_category.loc[product_df.price <= 50] = 'low_price'\n",
    "product_df.price_category.loc[(product_df.price <= 100) & (product_df.price > 50)] = 'mid_price'\n",
    "product_df.price_category.loc[product_df.price > 100] = 'expensive'"
   ]
  },
  {
   "cell_type": "code",
   "execution_count": 58,
   "metadata": {
    "collapsed": false
   },
   "outputs": [
    {
     "data": {
      "text/html": [
       "<div>\n",
       "<table border=\"1\" class=\"dataframe\">\n",
       "  <thead>\n",
       "    <tr style=\"text-align: right;\">\n",
       "      <th></th>\n",
       "      <th>asin</th>\n",
       "      <th>helpful</th>\n",
       "      <th>overall</th>\n",
       "      <th>reviewText</th>\n",
       "      <th>reviewTime</th>\n",
       "      <th>reviewerID</th>\n",
       "      <th>reviewerName</th>\n",
       "      <th>summary</th>\n",
       "      <th>unixReviewTime</th>\n",
       "      <th>timestamp</th>\n",
       "      <th>categories</th>\n",
       "      <th>price</th>\n",
       "      <th>bought_together</th>\n",
       "      <th>price_category</th>\n",
       "    </tr>\n",
       "  </thead>\n",
       "  <tbody>\n",
       "    <tr>\n",
       "      <th>4835750</th>\n",
       "      <td>B000PHMP9W</td>\n",
       "      <td>[14, 17]</td>\n",
       "      <td>2</td>\n",
       "      <td>This one just doesn't do it. I've been paintin...</td>\n",
       "      <td>06 6, 2012</td>\n",
       "      <td>A2KLYOF0NALY1M</td>\n",
       "      <td>slotcargene</td>\n",
       "      <td>Well - it ain't chrome!</td>\n",
       "      <td>1338940800</td>\n",
       "      <td>2012-06-06</td>\n",
       "      <td>[Arts, Crafts &amp; Sewing, Art Supplies, Painting]</td>\n",
       "      <td>5.36</td>\n",
       "      <td>[B003ZTNENS]</td>\n",
       "      <td>low_price</td>\n",
       "    </tr>\n",
       "    <tr>\n",
       "      <th>1701700</th>\n",
       "      <td>B007HJ5RBY</td>\n",
       "      <td>[1, 1]</td>\n",
       "      <td>5</td>\n",
       "      <td>It's hard to write a review about a hunk of sh...</td>\n",
       "      <td>01 31, 2014</td>\n",
       "      <td>AU33OIUOWR2BV</td>\n",
       "      <td>HeavyArms \"Jason\"</td>\n",
       "      <td>It's effective</td>\n",
       "      <td>1391126400</td>\n",
       "      <td>2014-01-31</td>\n",
       "      <td>[Electronics, Computers &amp; Accessories, Cables ...</td>\n",
       "      <td>6.93</td>\n",
       "      <td>[B00E3W15P0]</td>\n",
       "      <td>low_price</td>\n",
       "    </tr>\n",
       "  </tbody>\n",
       "</table>\n",
       "</div>"
      ],
      "text/plain": [
       "               asin   helpful  overall  \\\n",
       "4835750  B000PHMP9W  [14, 17]        2   \n",
       "1701700  B007HJ5RBY    [1, 1]        5   \n",
       "\n",
       "                                                reviewText   reviewTime  \\\n",
       "4835750  This one just doesn't do it. I've been paintin...   06 6, 2012   \n",
       "1701700  It's hard to write a review about a hunk of sh...  01 31, 2014   \n",
       "\n",
       "             reviewerID       reviewerName                  summary  \\\n",
       "4835750  A2KLYOF0NALY1M        slotcargene  Well - it ain't chrome!   \n",
       "1701700   AU33OIUOWR2BV  HeavyArms \"Jason\"           It's effective   \n",
       "\n",
       "         unixReviewTime  timestamp  \\\n",
       "4835750      1338940800 2012-06-06   \n",
       "1701700      1391126400 2014-01-31   \n",
       "\n",
       "                                                categories  price  \\\n",
       "4835750    [Arts, Crafts & Sewing, Art Supplies, Painting]   5.36   \n",
       "1701700  [Electronics, Computers & Accessories, Cables ...   6.93   \n",
       "\n",
       "        bought_together price_category  \n",
       "4835750    [B003ZTNENS]      low_price  \n",
       "1701700    [B00E3W15P0]      low_price  "
      ]
     },
     "execution_count": 58,
     "metadata": {},
     "output_type": "execute_result"
    }
   ],
   "source": [
    "product_df.sample(2)"
   ]
  },
  {
   "cell_type": "code",
   "execution_count": 59,
   "metadata": {
    "collapsed": false
   },
   "outputs": [],
   "source": [
    "# Let's plot count of price categories\n",
    "price_df = product_df.price_category.value_counts().reset_index()\n",
    "price_df.rename(columns={'index': 'price_category', 'price_category': 'count'}, inplace=True)\n",
    "price_df['percentage_of_reviews'] = price_df['count']*100.0/price_df['count'].sum()\n",
    "price_df['price_category'] = price_df['price_category'].astype(str)"
   ]
  },
  {
   "cell_type": "code",
   "execution_count": 60,
   "metadata": {
    "collapsed": false
   },
   "outputs": [
    {
     "data": {
      "text/html": [
       "<div>\n",
       "<table border=\"1\" class=\"dataframe\">\n",
       "  <thead>\n",
       "    <tr style=\"text-align: right;\">\n",
       "      <th></th>\n",
       "      <th>price_category</th>\n",
       "      <th>count</th>\n",
       "      <th>percentage_of_reviews</th>\n",
       "    </tr>\n",
       "  </thead>\n",
       "  <tbody>\n",
       "    <tr>\n",
       "      <th>0</th>\n",
       "      <td>low_price</td>\n",
       "      <td>6861826</td>\n",
       "      <td>86.07</td>\n",
       "    </tr>\n",
       "    <tr>\n",
       "      <th>1</th>\n",
       "      <td>mid_price</td>\n",
       "      <td>586253</td>\n",
       "      <td>7.35</td>\n",
       "    </tr>\n",
       "    <tr>\n",
       "      <th>2</th>\n",
       "      <td>expensive</td>\n",
       "      <td>524689</td>\n",
       "      <td>6.58</td>\n",
       "    </tr>\n",
       "  </tbody>\n",
       "</table>\n",
       "</div>"
      ],
      "text/plain": [
       "  price_category    count  percentage_of_reviews\n",
       "0      low_price  6861826                  86.07\n",
       "1      mid_price   586253                   7.35\n",
       "2      expensive   524689                   6.58"
      ]
     },
     "execution_count": 60,
     "metadata": {},
     "output_type": "execute_result"
    }
   ],
   "source": [
    "price_df"
   ]
  },
  {
   "cell_type": "code",
   "execution_count": 61,
   "metadata": {
    "collapsed": false
   },
   "outputs": [
    {
     "name": "stderr",
     "output_type": "stream",
     "text": [
      "/home/ubuntu/anaconda3/lib/python3.6/site-packages/matplotlib/font_manager.py:1297: UserWarning: findfont: Font family ['sans-serif'] not found. Falling back to DejaVu Sans\n",
      "  (prop.get_family(), self.defaultFamily[fontext]))\n"
     ]
    },
    {
     "data": {
      "image/png": "[encoded data removed]",
      "text/plain": [
       "<matplotlib.figure.Figure at 0x7fcd439366a0>"
      ]
     },
     "metadata": {},
     "output_type": "display_data"
    }
   ],
   "source": [
    "price_plot1 = price_df.plot(x='price_category', y='percentage_of_reviews', kind='bar')\n",
    "price_plot1.set_title(\"Distribution of price categories\")\n",
    "price_plot1.set_xlabel(\"Helpfulness\")\n",
    "price_plot1.set_ylabel(\"Percentage of reviews\")\n",
    "price_plot1.legend_.remove()"
   ]
  },
  {
   "cell_type": "markdown",
   "metadata": {},
   "source": [
    "Over 80% of Amazon products between 0 and 50, which makes sense as popular items at Amazon are not extremely expensive."
   ]
  },
  {
   "cell_type": "markdown",
   "metadata": {},
   "source": [
    "The next question to answer is how price affects ratings. Are more expensive products higly rated as compared to low priced products."
   ]
  },
  {
   "cell_type": "code",
   "execution_count": 62,
   "metadata": {
    "collapsed": false
   },
   "outputs": [
    {
     "data": {
      "text/plain": [
       "<matplotlib.text.Text at 0x7fcd438c99e8>"
      ]
     },
     "execution_count": 62,
     "metadata": {},
     "output_type": "execute_result"
    },
    {
     "name": "stderr",
     "output_type": "stream",
     "text": [
      "/home/ubuntu/anaconda3/lib/python3.6/site-packages/matplotlib/font_manager.py:1297: UserWarning: findfont: Font family ['sans-serif'] not found. Falling back to DejaVu Sans\n",
      "  (prop.get_family(), self.defaultFamily[fontext]))\n"
     ]
    },
    {
     "data": {
      "image/png": "[encoded data removed]",
      "text/plain": [
       "<matplotlib.figure.Figure at 0x7fcd43b0e748>"
      ]
     },
     "metadata": {},
     "output_type": "display_data"
    }
   ],
   "source": [
    "sns.boxplot(x='price_category', y='overall', data=product_df, width=0.5, palette=\"colorblind\")\n",
    "plt.ylim(0, 6)\n",
    "plt.title(\"Ratings by price category\")"
   ]
  },
  {
   "cell_type": "code",
   "execution_count": 63,
   "metadata": {
    "collapsed": false
   },
   "outputs": [
    {
     "data": {
      "text/plain": [
       "count   6861826.00\n",
       "mean          4.18\n",
       "std           1.24\n",
       "min           1.00\n",
       "25%           4.00\n",
       "50%           5.00\n",
       "75%           5.00\n",
       "max           5.00\n",
       "Name: overall, dtype: float64"
      ]
     },
     "execution_count": 63,
     "metadata": {},
     "output_type": "execute_result"
    }
   ],
   "source": [
    "product_df.overall.loc[product_df.price_category == 'low_price'].describe()"
   ]
  },
  {
   "cell_type": "code",
   "execution_count": 64,
   "metadata": {
    "collapsed": false
   },
   "outputs": [
    {
     "data": {
      "text/plain": [
       "count   586253.00\n",
       "mean         4.12\n",
       "std          1.31\n",
       "min          1.00\n",
       "25%          4.00\n",
       "50%          5.00\n",
       "75%          5.00\n",
       "max          5.00\n",
       "Name: overall, dtype: float64"
      ]
     },
     "execution_count": 64,
     "metadata": {},
     "output_type": "execute_result"
    }
   ],
   "source": [
    "product_df.overall.loc[product_df.price_category == 'mid_price'].describe()"
   ]
  },
  {
   "cell_type": "code",
   "execution_count": 65,
   "metadata": {
    "collapsed": false
   },
   "outputs": [
    {
     "data": {
      "text/plain": [
       "count   524689.00\n",
       "mean         4.12\n",
       "std          1.31\n",
       "min          1.00\n",
       "25%          4.00\n",
       "50%          5.00\n",
       "75%          5.00\n",
       "max          5.00\n",
       "Name: overall, dtype: float64"
      ]
     },
     "execution_count": 65,
     "metadata": {},
     "output_type": "execute_result"
    }
   ],
   "source": [
    "product_df.overall.loc[product_df.price_category == 'expensive'].describe()"
   ]
  },
  {
   "cell_type": "markdown",
   "metadata": {},
   "source": [
    "It seems that price does not actuall have any relation to reviews, which is quite surprising."
   ]
  },
  {
   "cell_type": "markdown",
   "metadata": {},
   "source": [
    "(iii) How does review length/word count affect price? Do higher priced products have longer reviews? "
   ]
  },
  {
   "cell_type": "code",
   "execution_count": 66,
   "metadata": {
    "collapsed": false
   },
   "outputs": [
    {
     "data": {
      "text/html": [
       "<div>\n",
       "<table border=\"1\" class=\"dataframe\">\n",
       "  <thead>\n",
       "    <tr style=\"text-align: right;\">\n",
       "      <th></th>\n",
       "      <th>asin</th>\n",
       "      <th>helpful</th>\n",
       "      <th>overall</th>\n",
       "      <th>reviewText</th>\n",
       "      <th>reviewTime</th>\n",
       "      <th>reviewerID</th>\n",
       "      <th>reviewerName</th>\n",
       "      <th>summary</th>\n",
       "      <th>unixReviewTime</th>\n",
       "      <th>timestamp</th>\n",
       "      <th>categories</th>\n",
       "      <th>price</th>\n",
       "      <th>bought_together</th>\n",
       "      <th>price_category</th>\n",
       "      <th>word_count</th>\n",
       "    </tr>\n",
       "  </thead>\n",
       "  <tbody>\n",
       "    <tr>\n",
       "      <th>0</th>\n",
       "      <td>B00691AF68</td>\n",
       "      <td>[0, 0]</td>\n",
       "      <td>3</td>\n",
       "      <td>I bought this case for the kickstand alone, si...</td>\n",
       "      <td>06 26, 2012</td>\n",
       "      <td>A2OTZJKZBLTRAQ</td>\n",
       "      <td>Randy</td>\n",
       "      <td>4 stars for sturdiness, NO STARS FOR THE KICKS...</td>\n",
       "      <td>1340668800</td>\n",
       "      <td>2012-06-26</td>\n",
       "      <td>[Cell Phones &amp; Accessories, Cases, Basic Cases]</td>\n",
       "      <td>35.99</td>\n",
       "      <td>[B006JHU3DC, B0064R6VWO]</td>\n",
       "      <td>low_price</td>\n",
       "      <td>191</td>\n",
       "    </tr>\n",
       "    <tr>\n",
       "      <th>1</th>\n",
       "      <td>B004XCLYSS</td>\n",
       "      <td>[0, 0]</td>\n",
       "      <td>5</td>\n",
       "      <td>Vintage style face gives an antique feel.  Ban...</td>\n",
       "      <td>02 9, 2013</td>\n",
       "      <td>A3QVJW34MZU61W</td>\n",
       "      <td>tjnks</td>\n",
       "      <td>Must have</td>\n",
       "      <td>1360368000</td>\n",
       "      <td>2013-02-09</td>\n",
       "      <td>[Clothing, Shoes &amp; Jewelry, Women]</td>\n",
       "      <td>80.00</td>\n",
       "      <td></td>\n",
       "      <td>mid_price</td>\n",
       "      <td>21</td>\n",
       "    </tr>\n",
       "    <tr>\n",
       "      <th>2</th>\n",
       "      <td>0988703009</td>\n",
       "      <td>[0, 0]</td>\n",
       "      <td>2</td>\n",
       "      <td>What disguises itself as a dystopian novel is ...</td>\n",
       "      <td>07 10, 2014</td>\n",
       "      <td>A3IO3F5RJOPN6H</td>\n",
       "      <td>A.</td>\n",
       "      <td>Not what I expected</td>\n",
       "      <td>1404950400</td>\n",
       "      <td>2014-07-10</td>\n",
       "      <td>[Books]</td>\n",
       "      <td>1.99</td>\n",
       "      <td></td>\n",
       "      <td>low_price</td>\n",
       "      <td>183</td>\n",
       "    </tr>\n",
       "    <tr>\n",
       "      <th>3</th>\n",
       "      <td>0323004318</td>\n",
       "      <td>[0, 0]</td>\n",
       "      <td>5</td>\n",
       "      <td>Great information that every nursing student s...</td>\n",
       "      <td>01 15, 2013</td>\n",
       "      <td>A1Z7LRIQXKXQDC</td>\n",
       "      <td>E. Whisenhunt</td>\n",
       "      <td>Great Information</td>\n",
       "      <td>1358208000</td>\n",
       "      <td>2013-01-15</td>\n",
       "      <td>[Books]</td>\n",
       "      <td>9.99</td>\n",
       "      <td></td>\n",
       "      <td>low_price</td>\n",
       "      <td>30</td>\n",
       "    </tr>\n",
       "    <tr>\n",
       "      <th>4</th>\n",
       "      <td>B001CFRF7I</td>\n",
       "      <td>[5, 5]</td>\n",
       "      <td>4</td>\n",
       "      <td>This heater works good.  You have to have the ...</td>\n",
       "      <td>01 23, 2013</td>\n",
       "      <td>A2O962SNGYQEK</td>\n",
       "      <td>BRYAN FISHER</td>\n",
       "      <td>it has it's place</td>\n",
       "      <td>1358899200</td>\n",
       "      <td>2013-01-23</td>\n",
       "      <td>[Patio, Lawn &amp; Garden, Outdoor Heaters &amp; Acces...</td>\n",
       "      <td>62.99</td>\n",
       "      <td>[B000AMC5WO]</td>\n",
       "      <td>mid_price</td>\n",
       "      <td>46</td>\n",
       "    </tr>\n",
       "  </tbody>\n",
       "</table>\n",
       "</div>"
      ],
      "text/plain": [
       "         asin helpful  overall  \\\n",
       "0  B00691AF68  [0, 0]        3   \n",
       "1  B004XCLYSS  [0, 0]        5   \n",
       "2  0988703009  [0, 0]        2   \n",
       "3  0323004318  [0, 0]        5   \n",
       "4  B001CFRF7I  [5, 5]        4   \n",
       "\n",
       "                                          reviewText   reviewTime  \\\n",
       "0  I bought this case for the kickstand alone, si...  06 26, 2012   \n",
       "1  Vintage style face gives an antique feel.  Ban...   02 9, 2013   \n",
       "2  What disguises itself as a dystopian novel is ...  07 10, 2014   \n",
       "3  Great information that every nursing student s...  01 15, 2013   \n",
       "4  This heater works good.  You have to have the ...  01 23, 2013   \n",
       "\n",
       "       reviewerID   reviewerName  \\\n",
       "0  A2OTZJKZBLTRAQ          Randy   \n",
       "1  A3QVJW34MZU61W          tjnks   \n",
       "2  A3IO3F5RJOPN6H             A.   \n",
       "3  A1Z7LRIQXKXQDC  E. Whisenhunt   \n",
       "4   A2O962SNGYQEK   BRYAN FISHER   \n",
       "\n",
       "                                             summary  unixReviewTime  \\\n",
       "0  4 stars for sturdiness, NO STARS FOR THE KICKS...      1340668800   \n",
       "1                                          Must have      1360368000   \n",
       "2                                Not what I expected      1404950400   \n",
       "3                                  Great Information      1358208000   \n",
       "4                                  it has it's place      1358899200   \n",
       "\n",
       "   timestamp                                         categories  price  \\\n",
       "0 2012-06-26    [Cell Phones & Accessories, Cases, Basic Cases]  35.99   \n",
       "1 2013-02-09                 [Clothing, Shoes & Jewelry, Women]  80.00   \n",
       "2 2014-07-10                                            [Books]   1.99   \n",
       "3 2013-01-15                                            [Books]   9.99   \n",
       "4 2013-01-23  [Patio, Lawn & Garden, Outdoor Heaters & Acces...  62.99   \n",
       "\n",
       "            bought_together price_category  word_count  \n",
       "0  [B006JHU3DC, B0064R6VWO]      low_price         191  \n",
       "1                                mid_price          21  \n",
       "2                                low_price         183  \n",
       "3                                low_price          30  \n",
       "4              [B000AMC5WO]      mid_price          46  "
      ]
     },
     "execution_count": 66,
     "metadata": {},
     "output_type": "execute_result"
    }
   ],
   "source": [
    "product_df['word_count'] = product_df['reviewText'].apply(lambda x: word_count(x))\n",
    "product_df.head()"
   ]
  },
  {
   "cell_type": "code",
   "execution_count": 67,
   "metadata": {
    "collapsed": false
   },
   "outputs": [
    {
     "name": "stderr",
     "output_type": "stream",
     "text": [
      "/home/ubuntu/anaconda3/lib/python3.6/site-packages/pandas/core/indexing.py:141: SettingWithCopyWarning: \n",
      "A value is trying to be set on a copy of a slice from a DataFrame\n",
      "\n",
      "See the caveats in the documentation: http://pandas.pydata.org/pandas-docs/stable/indexing.html#indexing-view-versus-copy\n",
      "  self._setitem_with_indexer(indexer, value)\n"
     ]
    },
    {
     "data": {
      "text/html": [
       "<div>\n",
       "<table border=\"1\" class=\"dataframe\">\n",
       "  <thead>\n",
       "    <tr style=\"text-align: right;\">\n",
       "      <th></th>\n",
       "      <th>price</th>\n",
       "      <th>word_count</th>\n",
       "      <th>price_category</th>\n",
       "    </tr>\n",
       "    <tr>\n",
       "      <th>asin</th>\n",
       "      <th></th>\n",
       "      <th></th>\n",
       "      <th></th>\n",
       "    </tr>\n",
       "  </thead>\n",
       "  <tbody>\n",
       "    <tr>\n",
       "      <th>0000013714</th>\n",
       "      <td>8.09</td>\n",
       "      <td>30.00</td>\n",
       "      <td>low_price</td>\n",
       "    </tr>\n",
       "    <tr>\n",
       "      <th>0000031852</th>\n",
       "      <td>3.17</td>\n",
       "      <td>37.50</td>\n",
       "      <td>low_price</td>\n",
       "    </tr>\n",
       "  </tbody>\n",
       "</table>\n",
       "</div>"
      ],
      "text/plain": [
       "            price  word_count price_category\n",
       "asin                                        \n",
       "0000013714   8.09       30.00      low_price\n",
       "0000031852   3.17       37.50      low_price"
      ]
     },
     "execution_count": 67,
     "metadata": {},
     "output_type": "execute_result"
    }
   ],
   "source": [
    "tmp = product_df.groupby('asin')['price', 'word_count'].mean()\n",
    "tmp['price_category'] = ''\n",
    "tmp.price_category.loc[tmp.price.isnull()] = 'low_price'\n",
    "tmp.price_category.loc[tmp.price <= 50] = 'low_price'\n",
    "tmp.price_category.loc[(tmp.price <= 100) & (tmp.price > 50)] = 'mid_price'\n",
    "tmp.price_category.loc[tmp.price > 100] = 'expensive'\n",
    "tmp.head(2)"
   ]
  },
  {
   "cell_type": "code",
   "execution_count": 117,
   "metadata": {
    "collapsed": false
   },
   "outputs": [
    {
     "name": "stderr",
     "output_type": "stream",
     "text": [
      "/home/ubuntu/anaconda3/lib/python3.6/site-packages/matplotlib/font_manager.py:1297: UserWarning: findfont: Font family ['sans-serif'] not found. Falling back to DejaVu Sans\n",
      "  (prop.get_family(), self.defaultFamily[fontext]))\n"
     ]
    },
    {
     "data": {
      "image/png": "[encoded data removed]",
      "text/plain": [
       "<matplotlib.figure.Figure at 0x7fcd43421dd8>"
      ]
     },
     "metadata": {},
     "output_type": "display_data"
    }
   ],
   "source": [
    "sns.boxplot(y='word_count', x='price_category', data=tmp, width=0.5, palette=\"colorblind\")\n",
    "plt.title(\"price vs word_count\")\n",
    "plt.ylim(0, 300);"
   ]
  },
  {
   "cell_type": "markdown",
   "metadata": {},
   "source": [
    "From here we can see that more expensive products have slightly higher word count, which is expected. Reviewers are likely to take the time to write detailed reviews if they spend more money on the product."
   ]
  },
  {
   "cell_type": "markdown",
   "metadata": {
    "collapsed": true
   },
   "source": [
    "### 5. Optional - Any other hypothesis you think is interesting, as long it would have business value for Amazon?"
   ]
  },
  {
   "cell_type": "markdown",
   "metadata": {},
   "source": [
    "Using User IDs, one can recognize repeat reviewers. Reviewers that have reviewed over 50 products account for over 1% of all reviews in the database. We will call such/ reviewers frequent reviewers. (The cutoff choice of 50, as opposed to another choice, seemed to not have a larger impact on the results.) I asked: Does the behavior of frequent reviewers differ from that of infrequent reviewers?"
   ]
  },
  {
   "cell_type": "code",
   "execution_count": 69,
   "metadata": {
    "collapsed": false
   },
   "outputs": [
    {
     "data": {
      "text/html": [
       "<div>\n",
       "<table border=\"1\" class=\"dataframe\">\n",
       "  <thead>\n",
       "    <tr style=\"text-align: right;\">\n",
       "      <th></th>\n",
       "      <th>reviewerID</th>\n",
       "      <th>overall</th>\n",
       "    </tr>\n",
       "  </thead>\n",
       "  <tbody>\n",
       "    <tr>\n",
       "      <th>0</th>\n",
       "      <td>A000008615DZQRRI946FO</td>\n",
       "      <td>1</td>\n",
       "    </tr>\n",
       "    <tr>\n",
       "      <th>1</th>\n",
       "      <td>A000013090ZI3HIT9N5V</td>\n",
       "      <td>1</td>\n",
       "    </tr>\n",
       "    <tr>\n",
       "      <th>2</th>\n",
       "      <td>A0000488123JA1KQJTEM8</td>\n",
       "      <td>1</td>\n",
       "    </tr>\n",
       "    <tr>\n",
       "      <th>3</th>\n",
       "      <td>A00005181SC9PSCD58LCG</td>\n",
       "      <td>1</td>\n",
       "    </tr>\n",
       "    <tr>\n",
       "      <th>4</th>\n",
       "      <td>A000096625CHSNKYTYGZN</td>\n",
       "      <td>1</td>\n",
       "    </tr>\n",
       "  </tbody>\n",
       "</table>\n",
       "</div>"
      ],
      "text/plain": [
       "              reviewerID  overall\n",
       "0  A000008615DZQRRI946FO        1\n",
       "1   A000013090ZI3HIT9N5V        1\n",
       "2  A0000488123JA1KQJTEM8        1\n",
       "3  A00005181SC9PSCD58LCG        1\n",
       "4  A000096625CHSNKYTYGZN        1"
      ]
     },
     "execution_count": 69,
     "metadata": {},
     "output_type": "execute_result"
    }
   ],
   "source": [
    "# Count of number of reviews given by each reviewer\n",
    "review_freq = review_df.groupby('reviewerID')['overall'].count().reset_index()\n",
    "review_freq.head()"
   ]
  },
  {
   "cell_type": "code",
   "execution_count": 70,
   "metadata": {
    "collapsed": false
   },
   "outputs": [
    {
     "name": "stderr",
     "output_type": "stream",
     "text": [
      "/home/ubuntu/anaconda3/lib/python3.6/site-packages/pandas/core/indexing.py:141: SettingWithCopyWarning: \n",
      "A value is trying to be set on a copy of a slice from a DataFrame\n",
      "\n",
      "See the caveats in the documentation: http://pandas.pydata.org/pandas-docs/stable/indexing.html#indexing-view-versus-copy\n",
      "  self._setitem_with_indexer(indexer, value)\n"
     ]
    }
   ],
   "source": [
    "# If reviewer has >25 reviews thn label as frequent_reviewer or label as not_frequent_reviewer\n",
    "review_freq.rename(columns={'overall':'review_count'}, inplace=True)\n",
    "review_freq['reviewer_category'] = ''\n",
    "review_freq.reviewer_category.loc[review_freq.review_count <= 50] = 'not_frequent_reviewer'\n",
    "review_freq.reviewer_category.loc[review_freq.review_count > 50] = 'frequent_reviewer'"
   ]
  },
  {
   "cell_type": "code",
   "execution_count": 71,
   "metadata": {
    "collapsed": false
   },
   "outputs": [
    {
     "data": {
      "text/plain": [
       "not_frequent_reviewer    5795417\n",
       "frequent_reviewer           3001\n",
       "Name: reviewer_category, dtype: int64"
      ]
     },
     "execution_count": 71,
     "metadata": {},
     "output_type": "execute_result"
    }
   ],
   "source": [
    "review_freq['reviewer_category'].value_counts()"
   ]
  },
  {
   "cell_type": "markdown",
   "metadata": {},
   "source": [
    "Close to 1% of the reviewers are frequent reviewers"
   ]
  },
  {
   "cell_type": "code",
   "execution_count": 72,
   "metadata": {
    "collapsed": false
   },
   "outputs": [
    {
     "data": {
      "text/html": [
       "<div>\n",
       "<table border=\"1\" class=\"dataframe\">\n",
       "  <thead>\n",
       "    <tr style=\"text-align: right;\">\n",
       "      <th></th>\n",
       "      <th>reviewerID</th>\n",
       "      <th>overall</th>\n",
       "      <th>asin</th>\n",
       "    </tr>\n",
       "  </thead>\n",
       "  <tbody>\n",
       "    <tr>\n",
       "      <th>0</th>\n",
       "      <td>A000008615DZQRRI946FO</td>\n",
       "      <td>5</td>\n",
       "      <td>1</td>\n",
       "    </tr>\n",
       "    <tr>\n",
       "      <th>1</th>\n",
       "      <td>A000013090ZI3HIT9N5V</td>\n",
       "      <td>5</td>\n",
       "      <td>1</td>\n",
       "    </tr>\n",
       "    <tr>\n",
       "      <th>2</th>\n",
       "      <td>A0000488123JA1KQJTEM8</td>\n",
       "      <td>5</td>\n",
       "      <td>1</td>\n",
       "    </tr>\n",
       "    <tr>\n",
       "      <th>3</th>\n",
       "      <td>A00005181SC9PSCD58LCG</td>\n",
       "      <td>4</td>\n",
       "      <td>1</td>\n",
       "    </tr>\n",
       "    <tr>\n",
       "      <th>4</th>\n",
       "      <td>A000096625CHSNKYTYGZN</td>\n",
       "      <td>4</td>\n",
       "      <td>1</td>\n",
       "    </tr>\n",
       "  </tbody>\n",
       "</table>\n",
       "</div>"
      ],
      "text/plain": [
       "              reviewerID  overall  asin\n",
       "0  A000008615DZQRRI946FO        5     1\n",
       "1   A000013090ZI3HIT9N5V        5     1\n",
       "2  A0000488123JA1KQJTEM8        5     1\n",
       "3  A00005181SC9PSCD58LCG        4     1\n",
       "4  A000096625CHSNKYTYGZN        4     1"
      ]
     },
     "execution_count": 72,
     "metadata": {},
     "output_type": "execute_result"
    }
   ],
   "source": [
    "# Lets count the number of reviews by overall rating per reviewer\n",
    "review_rating = review_df.groupby(['reviewerID', 'overall'])['asin'].count().reset_index()\n",
    "review_rating.head()"
   ]
  },
  {
   "cell_type": "code",
   "execution_count": 73,
   "metadata": {
    "collapsed": false
   },
   "outputs": [
    {
     "data": {
      "text/html": [
       "<div>\n",
       "<table border=\"1\" class=\"dataframe\">\n",
       "  <thead>\n",
       "    <tr style=\"text-align: right;\">\n",
       "      <th></th>\n",
       "      <th>reviewerID</th>\n",
       "      <th>overall</th>\n",
       "      <th>review_count_per_rating</th>\n",
       "    </tr>\n",
       "  </thead>\n",
       "  <tbody>\n",
       "    <tr>\n",
       "      <th>0</th>\n",
       "      <td>A000008615DZQRRI946FO</td>\n",
       "      <td>5</td>\n",
       "      <td>1</td>\n",
       "    </tr>\n",
       "    <tr>\n",
       "      <th>1</th>\n",
       "      <td>A000013090ZI3HIT9N5V</td>\n",
       "      <td>5</td>\n",
       "      <td>1</td>\n",
       "    </tr>\n",
       "    <tr>\n",
       "      <th>2</th>\n",
       "      <td>A0000488123JA1KQJTEM8</td>\n",
       "      <td>5</td>\n",
       "      <td>1</td>\n",
       "    </tr>\n",
       "    <tr>\n",
       "      <th>3</th>\n",
       "      <td>A00005181SC9PSCD58LCG</td>\n",
       "      <td>4</td>\n",
       "      <td>1</td>\n",
       "    </tr>\n",
       "    <tr>\n",
       "      <th>4</th>\n",
       "      <td>A000096625CHSNKYTYGZN</td>\n",
       "      <td>4</td>\n",
       "      <td>1</td>\n",
       "    </tr>\n",
       "  </tbody>\n",
       "</table>\n",
       "</div>"
      ],
      "text/plain": [
       "              reviewerID  overall  review_count_per_rating\n",
       "0  A000008615DZQRRI946FO        5                        1\n",
       "1   A000013090ZI3HIT9N5V        5                        1\n",
       "2  A0000488123JA1KQJTEM8        5                        1\n",
       "3  A00005181SC9PSCD58LCG        4                        1\n",
       "4  A000096625CHSNKYTYGZN        4                        1"
      ]
     },
     "execution_count": 73,
     "metadata": {},
     "output_type": "execute_result"
    }
   ],
   "source": [
    "review_rating.rename(columns={'asin':'review_count_per_rating'}, inplace=True)\n",
    "review_rating.head()"
   ]
  },
  {
   "cell_type": "code",
   "execution_count": 74,
   "metadata": {
    "collapsed": false
   },
   "outputs": [
    {
     "data": {
      "text/html": [
       "<div>\n",
       "<table border=\"1\" class=\"dataframe\">\n",
       "  <thead>\n",
       "    <tr style=\"text-align: right;\">\n",
       "      <th></th>\n",
       "      <th>reviewerID</th>\n",
       "      <th>overall</th>\n",
       "      <th>review_count_per_rating</th>\n",
       "      <th>review_count</th>\n",
       "      <th>reviewer_category</th>\n",
       "    </tr>\n",
       "  </thead>\n",
       "  <tbody>\n",
       "    <tr>\n",
       "      <th>0</th>\n",
       "      <td>A000008615DZQRRI946FO</td>\n",
       "      <td>5</td>\n",
       "      <td>1</td>\n",
       "      <td>1</td>\n",
       "      <td>not_frequent_reviewer</td>\n",
       "    </tr>\n",
       "    <tr>\n",
       "      <th>1</th>\n",
       "      <td>A000013090ZI3HIT9N5V</td>\n",
       "      <td>5</td>\n",
       "      <td>1</td>\n",
       "      <td>1</td>\n",
       "      <td>not_frequent_reviewer</td>\n",
       "    </tr>\n",
       "    <tr>\n",
       "      <th>2</th>\n",
       "      <td>A0000488123JA1KQJTEM8</td>\n",
       "      <td>5</td>\n",
       "      <td>1</td>\n",
       "      <td>1</td>\n",
       "      <td>not_frequent_reviewer</td>\n",
       "    </tr>\n",
       "    <tr>\n",
       "      <th>3</th>\n",
       "      <td>A00005181SC9PSCD58LCG</td>\n",
       "      <td>4</td>\n",
       "      <td>1</td>\n",
       "      <td>1</td>\n",
       "      <td>not_frequent_reviewer</td>\n",
       "    </tr>\n",
       "    <tr>\n",
       "      <th>4</th>\n",
       "      <td>A000096625CHSNKYTYGZN</td>\n",
       "      <td>4</td>\n",
       "      <td>1</td>\n",
       "      <td>1</td>\n",
       "      <td>not_frequent_reviewer</td>\n",
       "    </tr>\n",
       "  </tbody>\n",
       "</table>\n",
       "</div>"
      ],
      "text/plain": [
       "              reviewerID  overall  review_count_per_rating  review_count  \\\n",
       "0  A000008615DZQRRI946FO        5                        1             1   \n",
       "1   A000013090ZI3HIT9N5V        5                        1             1   \n",
       "2  A0000488123JA1KQJTEM8        5                        1             1   \n",
       "3  A00005181SC9PSCD58LCG        4                        1             1   \n",
       "4  A000096625CHSNKYTYGZN        4                        1             1   \n",
       "\n",
       "       reviewer_category  \n",
       "0  not_frequent_reviewer  \n",
       "1  not_frequent_reviewer  \n",
       "2  not_frequent_reviewer  \n",
       "3  not_frequent_reviewer  \n",
       "4  not_frequent_reviewer  "
      ]
     },
     "execution_count": 74,
     "metadata": {},
     "output_type": "execute_result"
    }
   ],
   "source": [
    "review_freq_final = pd.merge(review_rating, review_freq, on=['reviewerID'])\n",
    "review_freq_final.head()"
   ]
  },
  {
   "cell_type": "code",
   "execution_count": 75,
   "metadata": {
    "collapsed": false
   },
   "outputs": [
    {
     "data": {
      "text/html": [
       "<div>\n",
       "<table border=\"1\" class=\"dataframe\">\n",
       "  <thead>\n",
       "    <tr style=\"text-align: right;\">\n",
       "      <th></th>\n",
       "      <th>reviewer_category</th>\n",
       "      <th>overall</th>\n",
       "      <th>review_count_per_rating</th>\n",
       "    </tr>\n",
       "  </thead>\n",
       "  <tbody>\n",
       "    <tr>\n",
       "      <th>0</th>\n",
       "      <td>frequent_reviewer</td>\n",
       "      <td>1</td>\n",
       "      <td>8041</td>\n",
       "    </tr>\n",
       "    <tr>\n",
       "      <th>1</th>\n",
       "      <td>frequent_reviewer</td>\n",
       "      <td>2</td>\n",
       "      <td>13609</td>\n",
       "    </tr>\n",
       "    <tr>\n",
       "      <th>2</th>\n",
       "      <td>frequent_reviewer</td>\n",
       "      <td>3</td>\n",
       "      <td>38173</td>\n",
       "    </tr>\n",
       "    <tr>\n",
       "      <th>3</th>\n",
       "      <td>frequent_reviewer</td>\n",
       "      <td>4</td>\n",
       "      <td>90421</td>\n",
       "    </tr>\n",
       "    <tr>\n",
       "      <th>4</th>\n",
       "      <td>frequent_reviewer</td>\n",
       "      <td>5</td>\n",
       "      <td>153088</td>\n",
       "    </tr>\n",
       "    <tr>\n",
       "      <th>5</th>\n",
       "      <td>not_frequent_reviewer</td>\n",
       "      <td>1</td>\n",
       "      <td>807112</td>\n",
       "    </tr>\n",
       "    <tr>\n",
       "      <th>6</th>\n",
       "      <td>not_frequent_reviewer</td>\n",
       "      <td>2</td>\n",
       "      <td>501827</td>\n",
       "    </tr>\n",
       "    <tr>\n",
       "      <th>7</th>\n",
       "      <td>not_frequent_reviewer</td>\n",
       "      <td>3</td>\n",
       "      <td>815195</td>\n",
       "    </tr>\n",
       "    <tr>\n",
       "      <th>8</th>\n",
       "      <td>not_frequent_reviewer</td>\n",
       "      <td>4</td>\n",
       "      <td>1781990</td>\n",
       "    </tr>\n",
       "    <tr>\n",
       "      <th>9</th>\n",
       "      <td>not_frequent_reviewer</td>\n",
       "      <td>5</td>\n",
       "      <td>5790544</td>\n",
       "    </tr>\n",
       "  </tbody>\n",
       "</table>\n",
       "</div>"
      ],
      "text/plain": [
       "       reviewer_category  overall  review_count_per_rating\n",
       "0      frequent_reviewer        1                     8041\n",
       "1      frequent_reviewer        2                    13609\n",
       "2      frequent_reviewer        3                    38173\n",
       "3      frequent_reviewer        4                    90421\n",
       "4      frequent_reviewer        5                   153088\n",
       "5  not_frequent_reviewer        1                   807112\n",
       "6  not_frequent_reviewer        2                   501827\n",
       "7  not_frequent_reviewer        3                   815195\n",
       "8  not_frequent_reviewer        4                  1781990\n",
       "9  not_frequent_reviewer        5                  5790544"
      ]
     },
     "execution_count": 75,
     "metadata": {},
     "output_type": "execute_result"
    }
   ],
   "source": [
    "review_freq_final_agg = review_freq_final.groupby(['reviewer_category', 'overall'])['review_count_per_rating'].sum().reset_index()\n",
    "review_freq_final_agg"
   ]
  },
  {
   "cell_type": "code",
   "execution_count": 108,
   "metadata": {
    "collapsed": true
   },
   "outputs": [],
   "source": [
    "#Let's look at reviews that are helpful by overall ratings\n",
    "review_freq_final_agg1 = review_freq_final_agg[review_freq_final_agg['reviewer_category'] == 'frequent_reviewer']\n",
    "review_freq_final_agg2 = review_freq_final_agg[review_freq_final_agg['reviewer_category'] == 'not_frequent_reviewer']\n",
    "review_freq_final_agg1a = review_freq_final_agg1.groupby(['overall'])['review_count_per_rating'].sum().reset_index()\n",
    "review_freq_final_agg1a['percent_frequent'] = review_freq_final_agg1a['review_count_per_rating']*100.0/review_freq_final_agg1a['review_count_per_rating'].sum()\n",
    "review_freq_final_agg2a = review_freq_final_agg2.groupby(['overall'])['review_count_per_rating'].sum().reset_index()\n",
    "review_freq_final_agg2a['percent_not_frequent'] = review_freq_final_agg2a['review_count_per_rating']*100.0/review_freq_final_agg2a['review_count_per_rating'].sum()"
   ]
  },
  {
   "cell_type": "code",
   "execution_count": 109,
   "metadata": {
    "collapsed": false
   },
   "outputs": [
    {
     "data": {
      "text/html": [
       "<div>\n",
       "<table border=\"1\" class=\"dataframe\">\n",
       "  <thead>\n",
       "    <tr style=\"text-align: right;\">\n",
       "      <th></th>\n",
       "      <th>overall</th>\n",
       "      <th>review_count_per_rating</th>\n",
       "      <th>percent_frequent</th>\n",
       "    </tr>\n",
       "  </thead>\n",
       "  <tbody>\n",
       "    <tr>\n",
       "      <th>0</th>\n",
       "      <td>1</td>\n",
       "      <td>8041</td>\n",
       "      <td>2.65</td>\n",
       "    </tr>\n",
       "    <tr>\n",
       "      <th>1</th>\n",
       "      <td>2</td>\n",
       "      <td>13609</td>\n",
       "      <td>4.49</td>\n",
       "    </tr>\n",
       "    <tr>\n",
       "      <th>2</th>\n",
       "      <td>3</td>\n",
       "      <td>38173</td>\n",
       "      <td>12.58</td>\n",
       "    </tr>\n",
       "    <tr>\n",
       "      <th>3</th>\n",
       "      <td>4</td>\n",
       "      <td>90421</td>\n",
       "      <td>29.81</td>\n",
       "    </tr>\n",
       "    <tr>\n",
       "      <th>4</th>\n",
       "      <td>5</td>\n",
       "      <td>153088</td>\n",
       "      <td>50.47</td>\n",
       "    </tr>\n",
       "  </tbody>\n",
       "</table>\n",
       "</div>"
      ],
      "text/plain": [
       "   overall  review_count_per_rating  percent_frequent\n",
       "0        1                     8041              2.65\n",
       "1        2                    13609              4.49\n",
       "2        3                    38173             12.58\n",
       "3        4                    90421             29.81\n",
       "4        5                   153088             50.47"
      ]
     },
     "execution_count": 109,
     "metadata": {},
     "output_type": "execute_result"
    }
   ],
   "source": [
    "review_freq_final_agg1a.head()"
   ]
  },
  {
   "cell_type": "code",
   "execution_count": 110,
   "metadata": {
    "collapsed": false
   },
   "outputs": [
    {
     "data": {
      "text/html": [
       "<div>\n",
       "<table border=\"1\" class=\"dataframe\">\n",
       "  <thead>\n",
       "    <tr style=\"text-align: right;\">\n",
       "      <th></th>\n",
       "      <th>overall</th>\n",
       "      <th>review_count_per_rating</th>\n",
       "      <th>percent_not_frequent</th>\n",
       "    </tr>\n",
       "  </thead>\n",
       "  <tbody>\n",
       "    <tr>\n",
       "      <th>0</th>\n",
       "      <td>1</td>\n",
       "      <td>807112</td>\n",
       "      <td>8.32</td>\n",
       "    </tr>\n",
       "    <tr>\n",
       "      <th>1</th>\n",
       "      <td>2</td>\n",
       "      <td>501827</td>\n",
       "      <td>5.18</td>\n",
       "    </tr>\n",
       "    <tr>\n",
       "      <th>2</th>\n",
       "      <td>3</td>\n",
       "      <td>815195</td>\n",
       "      <td>8.41</td>\n",
       "    </tr>\n",
       "    <tr>\n",
       "      <th>3</th>\n",
       "      <td>4</td>\n",
       "      <td>1781990</td>\n",
       "      <td>18.38</td>\n",
       "    </tr>\n",
       "    <tr>\n",
       "      <th>4</th>\n",
       "      <td>5</td>\n",
       "      <td>5790544</td>\n",
       "      <td>59.72</td>\n",
       "    </tr>\n",
       "  </tbody>\n",
       "</table>\n",
       "</div>"
      ],
      "text/plain": [
       "   overall  review_count_per_rating  percent_not_frequent\n",
       "0        1                   807112                  8.32\n",
       "1        2                   501827                  5.18\n",
       "2        3                   815195                  8.41\n",
       "3        4                  1781990                 18.38\n",
       "4        5                  5790544                 59.72"
      ]
     },
     "execution_count": 110,
     "metadata": {},
     "output_type": "execute_result"
    }
   ],
   "source": [
    "review_freq_final_agg2a.head()"
   ]
  },
  {
   "cell_type": "code",
   "execution_count": 111,
   "metadata": {
    "collapsed": false
   },
   "outputs": [
    {
     "data": {
      "text/html": [
       "<div>\n",
       "<table border=\"1\" class=\"dataframe\">\n",
       "  <thead>\n",
       "    <tr style=\"text-align: right;\">\n",
       "      <th></th>\n",
       "      <th>overall</th>\n",
       "      <th>review_count_per_rating_x</th>\n",
       "      <th>percent_frequent</th>\n",
       "      <th>review_count_per_rating_y</th>\n",
       "      <th>percent_not_frequent</th>\n",
       "    </tr>\n",
       "  </thead>\n",
       "  <tbody>\n",
       "    <tr>\n",
       "      <th>0</th>\n",
       "      <td>1</td>\n",
       "      <td>8041</td>\n",
       "      <td>2.65</td>\n",
       "      <td>807112</td>\n",
       "      <td>8.32</td>\n",
       "    </tr>\n",
       "    <tr>\n",
       "      <th>1</th>\n",
       "      <td>2</td>\n",
       "      <td>13609</td>\n",
       "      <td>4.49</td>\n",
       "      <td>501827</td>\n",
       "      <td>5.18</td>\n",
       "    </tr>\n",
       "    <tr>\n",
       "      <th>2</th>\n",
       "      <td>3</td>\n",
       "      <td>38173</td>\n",
       "      <td>12.58</td>\n",
       "      <td>815195</td>\n",
       "      <td>8.41</td>\n",
       "    </tr>\n",
       "    <tr>\n",
       "      <th>3</th>\n",
       "      <td>4</td>\n",
       "      <td>90421</td>\n",
       "      <td>29.81</td>\n",
       "      <td>1781990</td>\n",
       "      <td>18.38</td>\n",
       "    </tr>\n",
       "    <tr>\n",
       "      <th>4</th>\n",
       "      <td>5</td>\n",
       "      <td>153088</td>\n",
       "      <td>50.47</td>\n",
       "      <td>5790544</td>\n",
       "      <td>59.72</td>\n",
       "    </tr>\n",
       "  </tbody>\n",
       "</table>\n",
       "</div>"
      ],
      "text/plain": [
       "   overall  review_count_per_rating_x  percent_frequent  \\\n",
       "0        1                       8041              2.65   \n",
       "1        2                      13609              4.49   \n",
       "2        3                      38173             12.58   \n",
       "3        4                      90421             29.81   \n",
       "4        5                     153088             50.47   \n",
       "\n",
       "   review_count_per_rating_y  percent_not_frequent  \n",
       "0                     807112                  8.32  \n",
       "1                     501827                  5.18  \n",
       "2                     815195                  8.41  \n",
       "3                    1781990                 18.38  \n",
       "4                    5790544                 59.72  "
      ]
     },
     "execution_count": 111,
     "metadata": {},
     "output_type": "execute_result"
    }
   ],
   "source": [
    "review_freq_final_agg3 = pd.merge(review_freq_final_agg1a, review_freq_final_agg2a, on=['overall'])\n",
    "review_freq_final_agg3"
   ]
  },
  {
   "cell_type": "code",
   "execution_count": 112,
   "metadata": {
    "collapsed": false
   },
   "outputs": [
    {
     "data": {
      "text/plain": [
       "<matplotlib.text.Text at 0x7fcd434278d0>"
      ]
     },
     "execution_count": 112,
     "metadata": {},
     "output_type": "execute_result"
    },
    {
     "name": "stderr",
     "output_type": "stream",
     "text": [
      "/home/ubuntu/anaconda3/lib/python3.6/site-packages/matplotlib/font_manager.py:1297: UserWarning: findfont: Font family ['sans-serif'] not found. Falling back to DejaVu Sans\n",
      "  (prop.get_family(), self.defaultFamily[fontext]))\n"
     ]
    },
    {
     "data": {
      "image/png": "[encoded data removed]",
      "text/plain": [
       "<matplotlib.figure.Figure at 0x7fcd435933c8>"
      ]
     },
     "metadata": {},
     "output_type": "display_data"
    }
   ],
   "source": [
    "review_freq_final_agg3.plot(x='overall', y=['percent_frequent', 'percent_not_frequent'], kind='bar')\n",
    "plt.title(\"Reviews by rating - frequent vs not_frequent\")\n",
    "plt.ylabel('percentage of reviews')"
   ]
  },
  {
   "cell_type": "markdown",
   "metadata": {
    "collapsed": false
   },
   "source": [
    "** (ii) Are frequent reviewers reviews more helpful? **"
   ]
  },
  {
   "cell_type": "markdown",
   "metadata": {
    "collapsed": true
   },
   "source": [
    "Do people vote more for reviews by frequent reviewers? Let's find out."
   ]
  },
  {
   "cell_type": "code",
   "execution_count": 85,
   "metadata": {
    "collapsed": false
   },
   "outputs": [
    {
     "data": {
      "text/html": [
       "<div>\n",
       "<table border=\"1\" class=\"dataframe\">\n",
       "  <thead>\n",
       "    <tr style=\"text-align: right;\">\n",
       "      <th></th>\n",
       "      <th>reviewerID</th>\n",
       "      <th>helpfulness_category</th>\n",
       "      <th>asin</th>\n",
       "    </tr>\n",
       "  </thead>\n",
       "  <tbody>\n",
       "    <tr>\n",
       "      <th>0</th>\n",
       "      <td>A000008615DZQRRI946FO</td>\n",
       "      <td>no_indication</td>\n",
       "      <td>1</td>\n",
       "    </tr>\n",
       "    <tr>\n",
       "      <th>1</th>\n",
       "      <td>A000013090ZI3HIT9N5V</td>\n",
       "      <td>no_indication</td>\n",
       "      <td>1</td>\n",
       "    </tr>\n",
       "    <tr>\n",
       "      <th>2</th>\n",
       "      <td>A0000488123JA1KQJTEM8</td>\n",
       "      <td>greater_than_75%</td>\n",
       "      <td>1</td>\n",
       "    </tr>\n",
       "    <tr>\n",
       "      <th>3</th>\n",
       "      <td>A00005181SC9PSCD58LCG</td>\n",
       "      <td>greater_than_75%</td>\n",
       "      <td>1</td>\n",
       "    </tr>\n",
       "    <tr>\n",
       "      <th>4</th>\n",
       "      <td>A000096625CHSNKYTYGZN</td>\n",
       "      <td>no_indication</td>\n",
       "      <td>1</td>\n",
       "    </tr>\n",
       "  </tbody>\n",
       "</table>\n",
       "</div>"
      ],
      "text/plain": [
       "              reviewerID helpfulness_category  asin\n",
       "0  A000008615DZQRRI946FO        no_indication     1\n",
       "1   A000013090ZI3HIT9N5V        no_indication     1\n",
       "2  A0000488123JA1KQJTEM8     greater_than_75%     1\n",
       "3  A00005181SC9PSCD58LCG     greater_than_75%     1\n",
       "4  A000096625CHSNKYTYGZN        no_indication     1"
      ]
     },
     "execution_count": 85,
     "metadata": {},
     "output_type": "execute_result"
    }
   ],
   "source": [
    "# Lets count the number of reviews by overall rating per reviewer\n",
    "review_helpfulness = review_df.groupby(['reviewerID', 'helpfulness_category'])['asin'].count().reset_index()\n",
    "review_helpfulness.head()"
   ]
  },
  {
   "cell_type": "code",
   "execution_count": 83,
   "metadata": {
    "collapsed": false
   },
   "outputs": [
    {
     "data": {
      "text/plain": [
       "Index(['asin', 'helpful', 'overall', 'reviewText', 'reviewTime', 'reviewerID',\n",
       "       'reviewerName', 'summary', 'unixReviewTime', 'timestamp',\n",
       "       'helpful_votes', 'overall_votes', 'percent_helpful',\n",
       "       'helpfulness_category'],\n",
       "      dtype='object')"
      ]
     },
     "execution_count": 83,
     "metadata": {},
     "output_type": "execute_result"
    }
   ],
   "source": [
    "review_df.columns"
   ]
  },
  {
   "cell_type": "code",
   "execution_count": 86,
   "metadata": {
    "collapsed": false
   },
   "outputs": [
    {
     "data": {
      "text/html": [
       "<div>\n",
       "<table border=\"1\" class=\"dataframe\">\n",
       "  <thead>\n",
       "    <tr style=\"text-align: right;\">\n",
       "      <th></th>\n",
       "      <th>reviewerID</th>\n",
       "      <th>helpfulness_category</th>\n",
       "      <th>review_count_per_helpfulness_category</th>\n",
       "    </tr>\n",
       "  </thead>\n",
       "  <tbody>\n",
       "    <tr>\n",
       "      <th>0</th>\n",
       "      <td>A000008615DZQRRI946FO</td>\n",
       "      <td>no_indication</td>\n",
       "      <td>1</td>\n",
       "    </tr>\n",
       "    <tr>\n",
       "      <th>1</th>\n",
       "      <td>A000013090ZI3HIT9N5V</td>\n",
       "      <td>no_indication</td>\n",
       "      <td>1</td>\n",
       "    </tr>\n",
       "    <tr>\n",
       "      <th>2</th>\n",
       "      <td>A0000488123JA1KQJTEM8</td>\n",
       "      <td>greater_than_75%</td>\n",
       "      <td>1</td>\n",
       "    </tr>\n",
       "    <tr>\n",
       "      <th>3</th>\n",
       "      <td>A00005181SC9PSCD58LCG</td>\n",
       "      <td>greater_than_75%</td>\n",
       "      <td>1</td>\n",
       "    </tr>\n",
       "    <tr>\n",
       "      <th>4</th>\n",
       "      <td>A000096625CHSNKYTYGZN</td>\n",
       "      <td>no_indication</td>\n",
       "      <td>1</td>\n",
       "    </tr>\n",
       "  </tbody>\n",
       "</table>\n",
       "</div>"
      ],
      "text/plain": [
       "              reviewerID helpfulness_category  \\\n",
       "0  A000008615DZQRRI946FO        no_indication   \n",
       "1   A000013090ZI3HIT9N5V        no_indication   \n",
       "2  A0000488123JA1KQJTEM8     greater_than_75%   \n",
       "3  A00005181SC9PSCD58LCG     greater_than_75%   \n",
       "4  A000096625CHSNKYTYGZN        no_indication   \n",
       "\n",
       "   review_count_per_helpfulness_category  \n",
       "0                                      1  \n",
       "1                                      1  \n",
       "2                                      1  \n",
       "3                                      1  \n",
       "4                                      1  "
      ]
     },
     "execution_count": 86,
     "metadata": {},
     "output_type": "execute_result"
    }
   ],
   "source": [
    "review_helpfulness.rename(columns={'asin':'review_count_per_helpfulness_category'}, inplace=True)\n",
    "review_helpfulness.head()"
   ]
  },
  {
   "cell_type": "code",
   "execution_count": 90,
   "metadata": {
    "collapsed": false
   },
   "outputs": [
    {
     "data": {
      "text/html": [
       "<div>\n",
       "<table border=\"1\" class=\"dataframe\">\n",
       "  <thead>\n",
       "    <tr style=\"text-align: right;\">\n",
       "      <th></th>\n",
       "      <th>reviewerID</th>\n",
       "      <th>review_count</th>\n",
       "      <th>reviewer_category</th>\n",
       "      <th>helpfulness_category</th>\n",
       "      <th>review_count_per_helpfulness_category</th>\n",
       "    </tr>\n",
       "  </thead>\n",
       "  <tbody>\n",
       "    <tr>\n",
       "      <th>0</th>\n",
       "      <td>A000008615DZQRRI946FO</td>\n",
       "      <td>1</td>\n",
       "      <td>not_frequent_reviewer</td>\n",
       "      <td>no_indication</td>\n",
       "      <td>1</td>\n",
       "    </tr>\n",
       "    <tr>\n",
       "      <th>1</th>\n",
       "      <td>A000013090ZI3HIT9N5V</td>\n",
       "      <td>1</td>\n",
       "      <td>not_frequent_reviewer</td>\n",
       "      <td>no_indication</td>\n",
       "      <td>1</td>\n",
       "    </tr>\n",
       "    <tr>\n",
       "      <th>2</th>\n",
       "      <td>A0000488123JA1KQJTEM8</td>\n",
       "      <td>1</td>\n",
       "      <td>not_frequent_reviewer</td>\n",
       "      <td>greater_than_75%</td>\n",
       "      <td>1</td>\n",
       "    </tr>\n",
       "    <tr>\n",
       "      <th>3</th>\n",
       "      <td>A00005181SC9PSCD58LCG</td>\n",
       "      <td>1</td>\n",
       "      <td>not_frequent_reviewer</td>\n",
       "      <td>greater_than_75%</td>\n",
       "      <td>1</td>\n",
       "    </tr>\n",
       "    <tr>\n",
       "      <th>4</th>\n",
       "      <td>A000096625CHSNKYTYGZN</td>\n",
       "      <td>1</td>\n",
       "      <td>not_frequent_reviewer</td>\n",
       "      <td>no_indication</td>\n",
       "      <td>1</td>\n",
       "    </tr>\n",
       "  </tbody>\n",
       "</table>\n",
       "</div>"
      ],
      "text/plain": [
       "              reviewerID  review_count      reviewer_category  \\\n",
       "0  A000008615DZQRRI946FO             1  not_frequent_reviewer   \n",
       "1   A000013090ZI3HIT9N5V             1  not_frequent_reviewer   \n",
       "2  A0000488123JA1KQJTEM8             1  not_frequent_reviewer   \n",
       "3  A00005181SC9PSCD58LCG             1  not_frequent_reviewer   \n",
       "4  A000096625CHSNKYTYGZN             1  not_frequent_reviewer   \n",
       "\n",
       "  helpfulness_category  review_count_per_helpfulness_category  \n",
       "0        no_indication                                      1  \n",
       "1        no_indication                                      1  \n",
       "2     greater_than_75%                                      1  \n",
       "3     greater_than_75%                                      1  \n",
       "4        no_indication                                      1  "
      ]
     },
     "execution_count": 90,
     "metadata": {},
     "output_type": "execute_result"
    }
   ],
   "source": [
    "review_helpfulness_final = pd.merge(review_freq, review_helpfulness, on=['reviewerID'])\n",
    "review_helpfulness_final.head()"
   ]
  },
  {
   "cell_type": "code",
   "execution_count": 91,
   "metadata": {
    "collapsed": false
   },
   "outputs": [
    {
     "data": {
      "text/html": [
       "<div>\n",
       "<table border=\"1\" class=\"dataframe\">\n",
       "  <thead>\n",
       "    <tr style=\"text-align: right;\">\n",
       "      <th></th>\n",
       "      <th>reviewer_category</th>\n",
       "      <th>helpfulness_category</th>\n",
       "      <th>review_count_per_helpfulness_category</th>\n",
       "    </tr>\n",
       "  </thead>\n",
       "  <tbody>\n",
       "    <tr>\n",
       "      <th>0</th>\n",
       "      <td>frequent_reviewer</td>\n",
       "      <td>25%_to_75%</td>\n",
       "      <td>52068</td>\n",
       "    </tr>\n",
       "    <tr>\n",
       "      <th>1</th>\n",
       "      <td>frequent_reviewer</td>\n",
       "      <td>greater_than_75%</td>\n",
       "      <td>141788</td>\n",
       "    </tr>\n",
       "    <tr>\n",
       "      <th>2</th>\n",
       "      <td>frequent_reviewer</td>\n",
       "      <td>less_than_25%</td>\n",
       "      <td>18562</td>\n",
       "    </tr>\n",
       "    <tr>\n",
       "      <th>3</th>\n",
       "      <td>frequent_reviewer</td>\n",
       "      <td>no_indication</td>\n",
       "      <td>90914</td>\n",
       "    </tr>\n",
       "    <tr>\n",
       "      <th>4</th>\n",
       "      <td>not_frequent_reviewer</td>\n",
       "      <td>25%_to_75%</td>\n",
       "      <td>973319</td>\n",
       "    </tr>\n",
       "    <tr>\n",
       "      <th>5</th>\n",
       "      <td>not_frequent_reviewer</td>\n",
       "      <td>greater_than_75%</td>\n",
       "      <td>2603986</td>\n",
       "    </tr>\n",
       "    <tr>\n",
       "      <th>6</th>\n",
       "      <td>not_frequent_reviewer</td>\n",
       "      <td>less_than_25%</td>\n",
       "      <td>720576</td>\n",
       "    </tr>\n",
       "    <tr>\n",
       "      <th>7</th>\n",
       "      <td>not_frequent_reviewer</td>\n",
       "      <td>no_indication</td>\n",
       "      <td>5398787</td>\n",
       "    </tr>\n",
       "  </tbody>\n",
       "</table>\n",
       "</div>"
      ],
      "text/plain": [
       "       reviewer_category helpfulness_category  \\\n",
       "0      frequent_reviewer           25%_to_75%   \n",
       "1      frequent_reviewer     greater_than_75%   \n",
       "2      frequent_reviewer        less_than_25%   \n",
       "3      frequent_reviewer        no_indication   \n",
       "4  not_frequent_reviewer           25%_to_75%   \n",
       "5  not_frequent_reviewer     greater_than_75%   \n",
       "6  not_frequent_reviewer        less_than_25%   \n",
       "7  not_frequent_reviewer        no_indication   \n",
       "\n",
       "   review_count_per_helpfulness_category  \n",
       "0                                  52068  \n",
       "1                                 141788  \n",
       "2                                  18562  \n",
       "3                                  90914  \n",
       "4                                 973319  \n",
       "5                                2603986  \n",
       "6                                 720576  \n",
       "7                                5398787  "
      ]
     },
     "execution_count": 91,
     "metadata": {},
     "output_type": "execute_result"
    }
   ],
   "source": [
    "review_helpfulness_final_agg = review_helpfulness_final.groupby(['reviewer_category', 'helpfulness_category'])['review_count_per_helpfulness_category'].sum().reset_index()\n",
    "review_helpfulness_final_agg"
   ]
  },
  {
   "cell_type": "code",
   "execution_count": 96,
   "metadata": {
    "collapsed": false
   },
   "outputs": [],
   "source": [
    "#Let's look at reviews that are helpful by helpfulness vategory\n",
    "review_helpfulness_final_agg1 = review_helpfulness_final_agg[review_helpfulness_final_agg['reviewer_category'] == 'frequent_reviewer']\n",
    "review_helpfulness_final_agg2 = review_helpfulness_final_agg[review_helpfulness_final_agg['reviewer_category'] == 'not_frequent_reviewer']\n",
    "review_helpfulness_final_agg1a = review_helpfulness_final_agg1.groupby(['helpfulness_category'])['review_count_per_helpfulness_category'].sum().reset_index()\n",
    "review_helpfulness_final_agg1a['percent_frequent'] = review_helpfulness_final_agg1a['review_count_per_helpfulness_category']*100.0/review_helpfulness_final_agg1a['review_count_per_helpfulness_category'].sum()\n",
    "review_helpfulness_final_agg2a = review_helpfulness_final_agg2.groupby(['helpfulness_category'])['review_count_per_helpfulness_category'].sum().reset_index()\n",
    "review_helpfulness_final_agg2a['percent_not_frequent'] = review_helpfulness_final_agg2a['review_count_per_helpfulness_category']*100.0/review_helpfulness_final_agg2a['review_count_per_helpfulness_category'].sum()"
   ]
  },
  {
   "cell_type": "code",
   "execution_count": 98,
   "metadata": {
    "collapsed": false
   },
   "outputs": [
    {
     "data": {
      "text/html": [
       "<div>\n",
       "<table border=\"1\" class=\"dataframe\">\n",
       "  <thead>\n",
       "    <tr style=\"text-align: right;\">\n",
       "      <th></th>\n",
       "      <th>helpfulness_category</th>\n",
       "      <th>review_count_per_helpfulness_category</th>\n",
       "      <th>percent_frequent</th>\n",
       "    </tr>\n",
       "  </thead>\n",
       "  <tbody>\n",
       "    <tr>\n",
       "      <th>0</th>\n",
       "      <td>25%_to_75%</td>\n",
       "      <td>52068</td>\n",
       "      <td>17.17</td>\n",
       "    </tr>\n",
       "    <tr>\n",
       "      <th>1</th>\n",
       "      <td>greater_than_75%</td>\n",
       "      <td>141788</td>\n",
       "      <td>46.74</td>\n",
       "    </tr>\n",
       "    <tr>\n",
       "      <th>2</th>\n",
       "      <td>less_than_25%</td>\n",
       "      <td>18562</td>\n",
       "      <td>6.12</td>\n",
       "    </tr>\n",
       "    <tr>\n",
       "      <th>3</th>\n",
       "      <td>no_indication</td>\n",
       "      <td>90914</td>\n",
       "      <td>29.97</td>\n",
       "    </tr>\n",
       "  </tbody>\n",
       "</table>\n",
       "</div>"
      ],
      "text/plain": [
       "  helpfulness_category  review_count_per_helpfulness_category  \\\n",
       "0           25%_to_75%                                  52068   \n",
       "1     greater_than_75%                                 141788   \n",
       "2        less_than_25%                                  18562   \n",
       "3        no_indication                                  90914   \n",
       "\n",
       "   percent_frequent  \n",
       "0             17.17  \n",
       "1             46.74  \n",
       "2              6.12  \n",
       "3             29.97  "
      ]
     },
     "execution_count": 98,
     "metadata": {},
     "output_type": "execute_result"
    }
   ],
   "source": [
    "review_helpfulness_final_agg1a"
   ]
  },
  {
   "cell_type": "code",
   "execution_count": 100,
   "metadata": {
    "collapsed": false
   },
   "outputs": [
    {
     "data": {
      "text/html": [
       "<div>\n",
       "<table border=\"1\" class=\"dataframe\">\n",
       "  <thead>\n",
       "    <tr style=\"text-align: right;\">\n",
       "      <th></th>\n",
       "      <th>helpfulness_category</th>\n",
       "      <th>review_count_per_helpfulness_category</th>\n",
       "      <th>percent_not_frequent</th>\n",
       "    </tr>\n",
       "  </thead>\n",
       "  <tbody>\n",
       "    <tr>\n",
       "      <th>0</th>\n",
       "      <td>25%_to_75%</td>\n",
       "      <td>973319</td>\n",
       "      <td>10.04</td>\n",
       "    </tr>\n",
       "    <tr>\n",
       "      <th>1</th>\n",
       "      <td>greater_than_75%</td>\n",
       "      <td>2603986</td>\n",
       "      <td>26.85</td>\n",
       "    </tr>\n",
       "    <tr>\n",
       "      <th>2</th>\n",
       "      <td>less_than_25%</td>\n",
       "      <td>720576</td>\n",
       "      <td>7.43</td>\n",
       "    </tr>\n",
       "    <tr>\n",
       "      <th>3</th>\n",
       "      <td>no_indication</td>\n",
       "      <td>5398787</td>\n",
       "      <td>55.68</td>\n",
       "    </tr>\n",
       "  </tbody>\n",
       "</table>\n",
       "</div>"
      ],
      "text/plain": [
       "  helpfulness_category  review_count_per_helpfulness_category  \\\n",
       "0           25%_to_75%                                 973319   \n",
       "1     greater_than_75%                                2603986   \n",
       "2        less_than_25%                                 720576   \n",
       "3        no_indication                                5398787   \n",
       "\n",
       "   percent_not_frequent  \n",
       "0                 10.04  \n",
       "1                 26.85  \n",
       "2                  7.43  \n",
       "3                 55.68  "
      ]
     },
     "execution_count": 100,
     "metadata": {},
     "output_type": "execute_result"
    }
   ],
   "source": [
    "review_helpfulness_final_agg2a"
   ]
  },
  {
   "cell_type": "code",
   "execution_count": 102,
   "metadata": {
    "collapsed": false
   },
   "outputs": [
    {
     "data": {
      "text/html": [
       "<div>\n",
       "<table border=\"1\" class=\"dataframe\">\n",
       "  <thead>\n",
       "    <tr style=\"text-align: right;\">\n",
       "      <th></th>\n",
       "      <th>helpfulness_category</th>\n",
       "      <th>review_count_per_helpfulness_category_x</th>\n",
       "      <th>percent_frequent</th>\n",
       "      <th>review_count_per_helpfulness_category_y</th>\n",
       "      <th>percent_not_frequent</th>\n",
       "    </tr>\n",
       "  </thead>\n",
       "  <tbody>\n",
       "    <tr>\n",
       "      <th>0</th>\n",
       "      <td>25%_to_75%</td>\n",
       "      <td>52068</td>\n",
       "      <td>17.17</td>\n",
       "      <td>973319</td>\n",
       "      <td>10.04</td>\n",
       "    </tr>\n",
       "    <tr>\n",
       "      <th>1</th>\n",
       "      <td>greater_than_75%</td>\n",
       "      <td>141788</td>\n",
       "      <td>46.74</td>\n",
       "      <td>2603986</td>\n",
       "      <td>26.85</td>\n",
       "    </tr>\n",
       "    <tr>\n",
       "      <th>2</th>\n",
       "      <td>less_than_25%</td>\n",
       "      <td>18562</td>\n",
       "      <td>6.12</td>\n",
       "      <td>720576</td>\n",
       "      <td>7.43</td>\n",
       "    </tr>\n",
       "    <tr>\n",
       "      <th>3</th>\n",
       "      <td>no_indication</td>\n",
       "      <td>90914</td>\n",
       "      <td>29.97</td>\n",
       "      <td>5398787</td>\n",
       "      <td>55.68</td>\n",
       "    </tr>\n",
       "  </tbody>\n",
       "</table>\n",
       "</div>"
      ],
      "text/plain": [
       "  helpfulness_category  review_count_per_helpfulness_category_x  \\\n",
       "0           25%_to_75%                                    52068   \n",
       "1     greater_than_75%                                   141788   \n",
       "2        less_than_25%                                    18562   \n",
       "3        no_indication                                    90914   \n",
       "\n",
       "   percent_frequent  review_count_per_helpfulness_category_y  \\\n",
       "0             17.17                                   973319   \n",
       "1             46.74                                  2603986   \n",
       "2              6.12                                   720576   \n",
       "3             29.97                                  5398787   \n",
       "\n",
       "   percent_not_frequent  \n",
       "0                 10.04  \n",
       "1                 26.85  \n",
       "2                  7.43  \n",
       "3                 55.68  "
      ]
     },
     "execution_count": 102,
     "metadata": {},
     "output_type": "execute_result"
    }
   ],
   "source": [
    "review_helpfulness_final_agg3 = pd.merge(review_helpfulness_final_agg1a, review_helpfulness_final_agg2a, on=['helpfulness_category'])\n",
    "review_helpfulness_final_agg3"
   ]
  },
  {
   "cell_type": "code",
   "execution_count": 103,
   "metadata": {
    "collapsed": false,
    "scrolled": true
   },
   "outputs": [
    {
     "data": {
      "text/plain": [
       "<matplotlib.text.Text at 0x7fcd435bf3c8>"
      ]
     },
     "execution_count": 103,
     "metadata": {},
     "output_type": "execute_result"
    },
    {
     "name": "stderr",
     "output_type": "stream",
     "text": [
      "/home/ubuntu/anaconda3/lib/python3.6/site-packages/matplotlib/font_manager.py:1297: UserWarning: findfont: Font family ['sans-serif'] not found. Falling back to DejaVu Sans\n",
      "  (prop.get_family(), self.defaultFamily[fontext]))\n"
     ]
    },
    {
     "data": {
      "image/png": "[encoded data removed]",
      "text/plain": [
       "<matplotlib.figure.Figure at 0x7fcd435a20f0>"
      ]
     },
     "metadata": {},
     "output_type": "display_data"
    }
   ],
   "source": [
    "review_helpfulness_final_agg3.plot(x='helpfulness_category', y=['percent_frequent', 'percent_not_frequent'], kind='bar')\n",
    "plt.title(\"Number of reviews\")\n",
    "plt.ylabel('percentage of reviews')"
   ]
  },
  {
   "cell_type": "code",
   "execution_count": null,
   "metadata": {
    "collapsed": true
   },
   "outputs": [],
   "source": []
  }
 ],
 "metadata": {
  "kernelspec": {
   "display_name": "Python 3",
   "language": "python",
   "name": "python3"
  },
  "language_info": {
   "codemirror_mode": {
    "name": "ipython",
    "version": 3
   },
   "file_extension": ".py",
   "mimetype": "text/x-python",
   "name": "python",
   "nbconvert_exporter": "python",
   "pygments_lexer": "ipython3",
   "version": "3.6.0"
  }
 },
 "nbformat": 4,
 "nbformat_minor": 2
}
